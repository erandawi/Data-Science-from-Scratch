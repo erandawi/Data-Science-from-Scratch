{
 "cells": [
  {
   "cell_type": "markdown",
   "id": "2c111a51",
   "metadata": {},
   "source": [
    "### Functions"
   ]
  },
  {
   "cell_type": "code",
   "execution_count": 26,
   "id": "fd85a077",
   "metadata": {},
   "outputs": [],
   "source": [
    "def double(x):\n",
    "    \"\"\"\n",
    "    This is where you put an optional docstring that explains what the\n",
    "    function does. For example, this function multiplies its input by 2\n",
    "    \"\"\"\n",
    "    return x * 2"
   ]
  },
  {
   "cell_type": "code",
   "execution_count": 27,
   "id": "bd7daf00",
   "metadata": {},
   "outputs": [],
   "source": [
    "def apply_to_one(f):\n",
    "    \n",
    "    \"\"\"Calls the function f with 1 as its argument\"\"\"\n",
    "    return f(1)"
   ]
  },
  {
   "cell_type": "code",
   "execution_count": 28,
   "id": "705b17a8",
   "metadata": {},
   "outputs": [
    {
     "name": "stdout",
     "output_type": "stream",
     "text": [
      "2\n"
     ]
    }
   ],
   "source": [
    "y =double(1)\n",
    "print(y)"
   ]
  },
  {
   "cell_type": "code",
   "execution_count": 29,
   "id": "3baafcb7",
   "metadata": {},
   "outputs": [
    {
     "name": "stdout",
     "output_type": "stream",
     "text": [
      "2\n"
     ]
    }
   ],
   "source": [
    "my_double = double\n",
    "x = apply_to_one(my_double) # equals 2\n",
    "print(x)"
   ]
  },
  {
   "cell_type": "code",
   "execution_count": 30,
   "id": "13ef1e28",
   "metadata": {},
   "outputs": [
    {
     "data": {
      "text/plain": [
       "5"
      ]
     },
     "execution_count": 30,
     "metadata": {},
     "output_type": "execute_result"
    }
   ],
   "source": [
    "# lambda functions\n",
    "y = apply_to_one(lambda x: x + 4) # equals 5\n",
    "y"
   ]
  },
  {
   "cell_type": "code",
   "execution_count": 31,
   "id": "325468ed",
   "metadata": {},
   "outputs": [],
   "source": [
    "another_double = lambda x : 2 * x # dont do this\n",
    "\n",
    "def another_double(x):\n",
    "    \"\"\"Do this instead\"\"\"\n",
    "    return 2 * x"
   ]
  },
  {
   "cell_type": "code",
   "execution_count": 32,
   "id": "e0d41dd1",
   "metadata": {},
   "outputs": [],
   "source": [
    "def my_print(message = ' my default message'):\n",
    "    print(message)"
   ]
  },
  {
   "cell_type": "code",
   "execution_count": 33,
   "id": "b656da17",
   "metadata": {},
   "outputs": [
    {
     "name": "stdout",
     "output_type": "stream",
     "text": [
      "hello\n"
     ]
    }
   ],
   "source": [
    "my_print('hello') # print hello"
   ]
  },
  {
   "cell_type": "code",
   "execution_count": 34,
   "id": "39cb92b3",
   "metadata": {},
   "outputs": [
    {
     "name": "stdout",
     "output_type": "stream",
     "text": [
      " my default message\n"
     ]
    }
   ],
   "source": [
    "my_print() # prints 'my default message'"
   ]
  },
  {
   "cell_type": "code",
   "execution_count": 35,
   "id": "f0780ffa",
   "metadata": {},
   "outputs": [],
   "source": [
    "def full_name(first = \"what's-his-name\", last = \"Something\"):\n",
    "    return first + \" \" + last"
   ]
  },
  {
   "cell_type": "code",
   "execution_count": 36,
   "id": "3f573773",
   "metadata": {},
   "outputs": [
    {
     "data": {
      "text/plain": [
       "'Joel Grus'"
      ]
     },
     "execution_count": 36,
     "metadata": {},
     "output_type": "execute_result"
    }
   ],
   "source": [
    "full_name(\"Joel\", \"Grus\") # 'Joel Grus'"
   ]
  },
  {
   "cell_type": "code",
   "execution_count": 37,
   "id": "83f09c73",
   "metadata": {},
   "outputs": [
    {
     "data": {
      "text/plain": [
       "'joel Something'"
      ]
     },
     "execution_count": 37,
     "metadata": {},
     "output_type": "execute_result"
    }
   ],
   "source": [
    "full_name(\"joel\") # 'Joel Something'"
   ]
  },
  {
   "cell_type": "code",
   "execution_count": 38,
   "id": "ec01db51",
   "metadata": {},
   "outputs": [
    {
     "data": {
      "text/plain": [
       "\"what's-his-name Grus\""
      ]
     },
     "execution_count": 38,
     "metadata": {},
     "output_type": "execute_result"
    }
   ],
   "source": [
    "full_name(last = 'Grus') # 'What's-his-name Grus'"
   ]
  },
  {
   "cell_type": "markdown",
   "id": "7bbcf0a0",
   "metadata": {},
   "source": [
    "### Strings"
   ]
  },
  {
   "cell_type": "code",
   "execution_count": 39,
   "id": "ffe361ce",
   "metadata": {},
   "outputs": [],
   "source": [
    "single_quoted_string = 'data science'\n",
    "double_quoted_string = \"data science\""
   ]
  },
  {
   "cell_type": "code",
   "execution_count": 40,
   "id": "15340d27",
   "metadata": {},
   "outputs": [
    {
     "data": {
      "text/plain": [
       "'\\t'"
      ]
     },
     "execution_count": 40,
     "metadata": {},
     "output_type": "execute_result"
    }
   ],
   "source": [
    "tab_string = \"\\t\" # represents the tab characters\n",
    "tab_string"
   ]
  },
  {
   "cell_type": "code",
   "execution_count": 41,
   "id": "cdcb3d03",
   "metadata": {},
   "outputs": [
    {
     "data": {
      "text/plain": [
       "1"
      ]
     },
     "execution_count": 41,
     "metadata": {},
     "output_type": "execute_result"
    }
   ],
   "source": [
    "len(tab_string) # is 1"
   ]
  },
  {
   "cell_type": "code",
   "execution_count": 42,
   "id": "bda1948a",
   "metadata": {},
   "outputs": [
    {
     "data": {
      "text/plain": [
       "'\\\\t'"
      ]
     },
     "execution_count": 42,
     "metadata": {},
     "output_type": "execute_result"
    }
   ],
   "source": [
    "not_tab_string = r\"\\t\" # represents the characters '\\' and 't'\n",
    "not_tab_string"
   ]
  },
  {
   "cell_type": "code",
   "execution_count": 43,
   "id": "49a53ef6",
   "metadata": {},
   "outputs": [
    {
     "data": {
      "text/plain": [
       "2"
      ]
     },
     "execution_count": 43,
     "metadata": {},
     "output_type": "execute_result"
    }
   ],
   "source": [
    "len(not_tab_string) # is 2"
   ]
  },
  {
   "cell_type": "code",
   "execution_count": 44,
   "id": "aa0499fd",
   "metadata": {},
   "outputs": [
    {
     "data": {
      "text/plain": [
       "'This is the first line.\\n    and this is the second line\\n    and this is the third line'"
      ]
     },
     "execution_count": 44,
     "metadata": {},
     "output_type": "execute_result"
    }
   ],
   "source": [
    "multi_line_string = \"\"\"This is the first line.\n",
    "    and this is the second line\n",
    "    and this is the third line\"\"\"\n",
    "multi_line_string"
   ]
  },
  {
   "cell_type": "code",
   "execution_count": 45,
   "id": "3ce56671",
   "metadata": {},
   "outputs": [],
   "source": [
    "first_name = \"joel\"\n",
    "last_name = 'Grus'"
   ]
  },
  {
   "cell_type": "code",
   "execution_count": 46,
   "id": "fb630096",
   "metadata": {},
   "outputs": [
    {
     "data": {
      "text/plain": [
       "'joel Grus'"
      ]
     },
     "execution_count": 46,
     "metadata": {},
     "output_type": "execute_result"
    }
   ],
   "source": [
    "full_name1 = first_name + \" \" + last_name # string addition\n",
    "full_name1"
   ]
  },
  {
   "cell_type": "code",
   "execution_count": 47,
   "id": "57236861",
   "metadata": {},
   "outputs": [
    {
     "data": {
      "text/plain": [
       "'joel Grus'"
      ]
     },
     "execution_count": 47,
     "metadata": {},
     "output_type": "execute_result"
    }
   ],
   "source": [
    "full_name2 = \"{0} {1}\".format(first_name, last_name) # string.format\n",
    "full_name2"
   ]
  },
  {
   "cell_type": "code",
   "execution_count": 48,
   "id": "cf8f9f33",
   "metadata": {},
   "outputs": [
    {
     "data": {
      "text/plain": [
       "'joel Grus'"
      ]
     },
     "execution_count": 48,
     "metadata": {},
     "output_type": "execute_result"
    }
   ],
   "source": [
    "full_name3 = f\"{first_name} {last_name}\"\n",
    "full_name3"
   ]
  },
  {
   "cell_type": "markdown",
   "id": "bea842da",
   "metadata": {},
   "source": [
    "### Exceptions"
   ]
  },
  {
   "cell_type": "code",
   "execution_count": 49,
   "id": "e63adfc4",
   "metadata": {},
   "outputs": [
    {
     "name": "stdout",
     "output_type": "stream",
     "text": [
      "cannot divide by zero\n"
     ]
    }
   ],
   "source": [
    "try:\n",
    "    print(0/0)\n",
    "except ZeroDivisionError:\n",
    "    print(\"cannot divide by zero\")"
   ]
  },
  {
   "cell_type": "markdown",
   "id": "e356cdc3",
   "metadata": {},
   "source": [
    "### Lists"
   ]
  },
  {
   "cell_type": "code",
   "execution_count": 50,
   "id": "5e16c855",
   "metadata": {},
   "outputs": [
    {
     "data": {
      "text/plain": [
       "[1, 2, 3]"
      ]
     },
     "execution_count": 50,
     "metadata": {},
     "output_type": "execute_result"
    }
   ],
   "source": [
    "integer_list = [1, 2, 3]\n",
    "integer_list"
   ]
  },
  {
   "cell_type": "code",
   "execution_count": 51,
   "id": "40c54be4",
   "metadata": {},
   "outputs": [
    {
     "data": {
      "text/plain": [
       "['string', 0.1, True]"
      ]
     },
     "execution_count": 51,
     "metadata": {},
     "output_type": "execute_result"
    }
   ],
   "source": [
    "heterogeneous_list = [\"string\", 0.1, True]\n",
    "heterogeneous_list"
   ]
  },
  {
   "cell_type": "code",
   "execution_count": 52,
   "id": "7629f85f",
   "metadata": {},
   "outputs": [
    {
     "data": {
      "text/plain": [
       "[[1, 2, 3], ['string', 0.1, True], []]"
      ]
     },
     "execution_count": 52,
     "metadata": {},
     "output_type": "execute_result"
    }
   ],
   "source": [
    "list_of_lists = [integer_list, heterogeneous_list, []]\n",
    "list_of_lists"
   ]
  },
  {
   "cell_type": "code",
   "execution_count": 53,
   "id": "46feebd9",
   "metadata": {},
   "outputs": [
    {
     "data": {
      "text/plain": [
       "3"
      ]
     },
     "execution_count": 53,
     "metadata": {},
     "output_type": "execute_result"
    }
   ],
   "source": [
    "list_length = len(integer_list) # equals 3\n",
    "list_length"
   ]
  },
  {
   "cell_type": "code",
   "execution_count": 54,
   "id": "613fa0c0",
   "metadata": {},
   "outputs": [
    {
     "data": {
      "text/plain": [
       "6"
      ]
     },
     "execution_count": 54,
     "metadata": {},
     "output_type": "execute_result"
    }
   ],
   "source": [
    "list_sum = sum(integer_list) # equals 6\n",
    "list_sum"
   ]
  },
  {
   "cell_type": "code",
   "execution_count": 55,
   "id": "98f74043",
   "metadata": {},
   "outputs": [
    {
     "data": {
      "text/plain": [
       "[0, 1, 2, 3, 4, 5, 6, 7, 8, 9]"
      ]
     },
     "execution_count": 55,
     "metadata": {},
     "output_type": "execute_result"
    }
   ],
   "source": [
    "x = [0, 1, 2, 3, 4, 5, 6, 7, 8, 9]\n",
    "x"
   ]
  },
  {
   "cell_type": "code",
   "execution_count": 56,
   "id": "ebebb120",
   "metadata": {},
   "outputs": [
    {
     "data": {
      "text/plain": [
       "[0]"
      ]
     },
     "execution_count": 56,
     "metadata": {},
     "output_type": "execute_result"
    }
   ],
   "source": [
    "zero = [0] # equals 0, lists are 0-indexed\n",
    "zero"
   ]
  },
  {
   "cell_type": "code",
   "execution_count": 57,
   "id": "9e3e556d",
   "metadata": {},
   "outputs": [
    {
     "data": {
      "text/plain": [
       "1"
      ]
     },
     "execution_count": 57,
     "metadata": {},
     "output_type": "execute_result"
    }
   ],
   "source": [
    "one = x[1]\n",
    "one    # equals 1 "
   ]
  },
  {
   "cell_type": "code",
   "execution_count": 58,
   "id": "cef6c51e",
   "metadata": {},
   "outputs": [
    {
     "data": {
      "text/plain": [
       "9"
      ]
     },
     "execution_count": 58,
     "metadata": {},
     "output_type": "execute_result"
    }
   ],
   "source": [
    "nine = x[-1] # equals 9, 'Pythonic ' for the last element\n",
    "nine"
   ]
  },
  {
   "cell_type": "code",
   "execution_count": 59,
   "id": "edb36a72",
   "metadata": {},
   "outputs": [
    {
     "data": {
      "text/plain": [
       "8"
      ]
     },
     "execution_count": 59,
     "metadata": {},
     "output_type": "execute_result"
    }
   ],
   "source": [
    "eight = x[-2] # equals 8, \"pythonic\" for next-to-last element\n",
    "eight"
   ]
  },
  {
   "cell_type": "code",
   "execution_count": 60,
   "id": "eb46ff63",
   "metadata": {},
   "outputs": [
    {
     "data": {
      "text/plain": [
       "-1"
      ]
     },
     "execution_count": 60,
     "metadata": {},
     "output_type": "execute_result"
    }
   ],
   "source": [
    "x[0] = -1   # now x is [-1, 1, 2, 3, 4, 5, 6, 7, 8, 9]\n",
    "x[0]"
   ]
  },
  {
   "cell_type": "code",
   "execution_count": 64,
   "id": "1d9b8ce3",
   "metadata": {},
   "outputs": [
    {
     "data": {
      "text/plain": [
       "[-1, 1, 2]"
      ]
     },
     "execution_count": 64,
     "metadata": {},
     "output_type": "execute_result"
    }
   ],
   "source": [
    "first_three = x[:3] # [-1, 1, 2]\n",
    "first_three"
   ]
  },
  {
   "cell_type": "code",
   "execution_count": 65,
   "id": "73b82645",
   "metadata": {},
   "outputs": [
    {
     "data": {
      "text/plain": [
       "[3, 4, 5, 6, 7, 8, 9]"
      ]
     },
     "execution_count": 65,
     "metadata": {},
     "output_type": "execute_result"
    }
   ],
   "source": [
    "three_to_end = x[3:] # [3, 4, ......., 9]\n",
    "three_to_end"
   ]
  },
  {
   "cell_type": "code",
   "execution_count": 66,
   "id": "a7561065",
   "metadata": {},
   "outputs": [
    {
     "data": {
      "text/plain": [
       "[1, 2, 3, 4]"
      ]
     },
     "execution_count": 66,
     "metadata": {},
     "output_type": "execute_result"
    }
   ],
   "source": [
    "one_to_four = x[1:5] # [1, 2, 3, 4]\n",
    "one_to_four"
   ]
  },
  {
   "cell_type": "code",
   "execution_count": 67,
   "id": "24277300",
   "metadata": {},
   "outputs": [
    {
     "data": {
      "text/plain": [
       "[7, 8, 9]"
      ]
     },
     "execution_count": 67,
     "metadata": {},
     "output_type": "execute_result"
    }
   ],
   "source": [
    "last_three = x[-3:] # [7, 8, 9]\n",
    "last_three"
   ]
  },
  {
   "cell_type": "code",
   "execution_count": 68,
   "id": "f3e1e488",
   "metadata": {},
   "outputs": [
    {
     "data": {
      "text/plain": [
       "[1, 2, 3, 4, 5, 6, 7, 8]"
      ]
     },
     "execution_count": 68,
     "metadata": {},
     "output_type": "execute_result"
    }
   ],
   "source": [
    "without_first_and_last = x[1:-1] # [1, 2, ..., 8]\n",
    "without_first_and_last"
   ]
  },
  {
   "cell_type": "code",
   "execution_count": 69,
   "id": "a0f4d188",
   "metadata": {},
   "outputs": [
    {
     "data": {
      "text/plain": [
       "[-1, 1, 2, 3, 4, 5, 6, 7, 8, 9]"
      ]
     },
     "execution_count": 69,
     "metadata": {},
     "output_type": "execute_result"
    }
   ],
   "source": [
    "copy_of_x = x[:] # [-1, 1, 2, ..., 9]\n",
    "copy_of_x"
   ]
  },
  {
   "cell_type": "code",
   "execution_count": 70,
   "id": "6c8117bf",
   "metadata": {},
   "outputs": [
    {
     "data": {
      "text/plain": [
       "[-1, 3, 6, 9]"
      ]
     },
     "execution_count": 70,
     "metadata": {},
     "output_type": "execute_result"
    }
   ],
   "source": [
    "every_thrid = x[::3] # [-1, 3, 6, 9]\n",
    "every_thrid"
   ]
  },
  {
   "cell_type": "code",
   "execution_count": 72,
   "id": "aef0f58c",
   "metadata": {},
   "outputs": [
    {
     "data": {
      "text/plain": [
       "[5, 4, 3]"
      ]
     },
     "execution_count": 72,
     "metadata": {},
     "output_type": "execute_result"
    }
   ],
   "source": [
    "five_to_three = x[5:2:-1] # [5, 4,  3]\n",
    "five_to_three"
   ]
  },
  {
   "cell_type": "code",
   "execution_count": 73,
   "id": "fc365db1",
   "metadata": {},
   "outputs": [
    {
     "data": {
      "text/plain": [
       "True"
      ]
     },
     "execution_count": 73,
     "metadata": {},
     "output_type": "execute_result"
    }
   ],
   "source": [
    "# python has in operator to check the list membership\n",
    "\n",
    "1 in [1, 2, 3] # True"
   ]
  },
  {
   "cell_type": "code",
   "execution_count": 74,
   "id": "da2c0fb2",
   "metadata": {},
   "outputs": [
    {
     "data": {
      "text/plain": [
       "False"
      ]
     },
     "execution_count": 74,
     "metadata": {},
     "output_type": "execute_result"
    }
   ],
   "source": [
    "0 in [1, 2, 3] # False"
   ]
  },
  {
   "cell_type": "code",
   "execution_count": 77,
   "id": "02eb53a8",
   "metadata": {},
   "outputs": [
    {
     "data": {
      "text/plain": [
       "[1, 2, 3]"
      ]
     },
     "execution_count": 77,
     "metadata": {},
     "output_type": "execute_result"
    }
   ],
   "source": [
    "# we can use extend to add items from  another collection\n",
    "x = [1, 2, 3]\n",
    "x"
   ]
  },
  {
   "cell_type": "code",
   "execution_count": 78,
   "id": "a5d68a8d",
   "metadata": {},
   "outputs": [
    {
     "data": {
      "text/plain": [
       "[1, 2, 3, 4, 5, 6]"
      ]
     },
     "execution_count": 78,
     "metadata": {},
     "output_type": "execute_result"
    }
   ],
   "source": [
    "x.extend([4, 5, 6]) # x is now [1, 2, 3, 4, 5, 6]\n",
    "x"
   ]
  },
  {
   "cell_type": "code",
   "execution_count": 80,
   "id": "18b7bd46",
   "metadata": {},
   "outputs": [
    {
     "data": {
      "text/plain": [
       "[1, 2, 3, 4, 5, 6]"
      ]
     },
     "execution_count": 80,
     "metadata": {},
     "output_type": "execute_result"
    }
   ],
   "source": [
    "# instead modfiying we can use list addition\n",
    "x = [1, 2, 3]\n",
    "y = x + [4, 5, 6]\n",
    "y"
   ]
  },
  {
   "cell_type": "code",
   "execution_count": 81,
   "id": "16d13b98",
   "metadata": {},
   "outputs": [
    {
     "data": {
      "text/plain": [
       "[1, 2, 3, 0]"
      ]
     },
     "execution_count": 81,
     "metadata": {},
     "output_type": "execute_result"
    }
   ],
   "source": [
    "# most frequently we append the list one item at a time\n",
    "\n",
    "x = [1, 2, 3]\n",
    "x.append(0) # x is now [1, 2, 3, 0]\n",
    "x"
   ]
  },
  {
   "cell_type": "code",
   "execution_count": 83,
   "id": "3aa34965",
   "metadata": {},
   "outputs": [
    {
     "data": {
      "text/plain": [
       "0"
      ]
     },
     "execution_count": 83,
     "metadata": {},
     "output_type": "execute_result"
    }
   ],
   "source": [
    "y = x[-1]  #equals 0\n",
    "y"
   ]
  },
  {
   "cell_type": "code",
   "execution_count": 85,
   "id": "fb4aff8b",
   "metadata": {},
   "outputs": [
    {
     "data": {
      "text/plain": [
       "4"
      ]
     },
     "execution_count": 85,
     "metadata": {},
     "output_type": "execute_result"
    }
   ],
   "source": [
    "z = len(x) # equals 4\n",
    "z"
   ]
  },
  {
   "cell_type": "code",
   "execution_count": 87,
   "id": "5ff05ade",
   "metadata": {},
   "outputs": [
    {
     "data": {
      "text/plain": [
       "1"
      ]
     },
     "execution_count": 87,
     "metadata": {},
     "output_type": "execute_result"
    }
   ],
   "source": [
    "# unpacked list\n",
    "x, y = [1, 2]  # now x is 1, y is 2\n",
    "x"
   ]
  },
  {
   "cell_type": "code",
   "execution_count": 88,
   "id": "568ce7ad",
   "metadata": {},
   "outputs": [
    {
     "data": {
      "text/plain": [
       "2"
      ]
     },
     "execution_count": 88,
     "metadata": {},
     "output_type": "execute_result"
    }
   ],
   "source": [
    "y"
   ]
  },
  {
   "cell_type": "code",
   "execution_count": 89,
   "id": "6169f6fe",
   "metadata": {},
   "outputs": [
    {
     "data": {
      "text/plain": [
       "2"
      ]
     },
     "execution_count": 89,
     "metadata": {},
     "output_type": "execute_result"
    }
   ],
   "source": [
    "# common idiom is to use an underscore for a value throw away\n",
    "_, y = [1, 2] # now y == 2, didn't care about the first element\n",
    "y"
   ]
  },
  {
   "cell_type": "code",
   "execution_count": 90,
   "id": "52eb8231",
   "metadata": {},
   "outputs": [
    {
     "data": {
      "text/plain": [
       "1"
      ]
     },
     "execution_count": 90,
     "metadata": {},
     "output_type": "execute_result"
    }
   ],
   "source": [
    "_"
   ]
  },
  {
   "cell_type": "markdown",
   "id": "c9327350",
   "metadata": {},
   "source": [
    "### Tuples"
   ]
  },
  {
   "cell_type": "code",
   "execution_count": 91,
   "id": "a148fb31",
   "metadata": {},
   "outputs": [
    {
     "data": {
      "text/plain": [
       "[1, 2]"
      ]
     },
     "execution_count": 91,
     "metadata": {},
     "output_type": "execute_result"
    }
   ],
   "source": [
    "my_list = [1, 2]\n",
    "my_list"
   ]
  },
  {
   "cell_type": "code",
   "execution_count": 92,
   "id": "34993942",
   "metadata": {},
   "outputs": [
    {
     "data": {
      "text/plain": [
       "(1, 2)"
      ]
     },
     "execution_count": 92,
     "metadata": {},
     "output_type": "execute_result"
    }
   ],
   "source": [
    "my_tuple = (1, 2)\n",
    "my_tuple"
   ]
  },
  {
   "cell_type": "code",
   "execution_count": 93,
   "id": "f8495fba",
   "metadata": {},
   "outputs": [
    {
     "data": {
      "text/plain": [
       "(3, 4)"
      ]
     },
     "execution_count": 93,
     "metadata": {},
     "output_type": "execute_result"
    }
   ],
   "source": [
    "other_tuple = 3, 4\n",
    "other_tuple"
   ]
  },
  {
   "cell_type": "code",
   "execution_count": 95,
   "id": "716fab6f",
   "metadata": {},
   "outputs": [
    {
     "data": {
      "text/plain": [
       "[1, 3]"
      ]
     },
     "execution_count": 95,
     "metadata": {},
     "output_type": "execute_result"
    }
   ],
   "source": [
    "my_list[1] = 3 # my_list is now [1, 3]\n",
    "my_list"
   ]
  },
  {
   "cell_type": "code",
   "execution_count": 96,
   "id": "c9b7e898",
   "metadata": {},
   "outputs": [
    {
     "name": "stdout",
     "output_type": "stream",
     "text": [
      "Cannot modify a tuple\n"
     ]
    }
   ],
   "source": [
    "try:\n",
    "    my_tuple[1] = 3\n",
    "except TypeError:\n",
    "    print('Cannot modify a tuple')"
   ]
  },
  {
   "cell_type": "code",
   "execution_count": 97,
   "id": "cd46de7f",
   "metadata": {},
   "outputs": [],
   "source": [
    "# tuples are a convenient way to return multiple values from functions\n",
    "\n",
    "def sum_and_product (x, y):\n",
    "    return (x + y), (x * y)"
   ]
  },
  {
   "cell_type": "code",
   "execution_count": 99,
   "id": "1e6d5740",
   "metadata": {},
   "outputs": [
    {
     "data": {
      "text/plain": [
       "(5, 6)"
      ]
     },
     "execution_count": 99,
     "metadata": {},
     "output_type": "execute_result"
    }
   ],
   "source": [
    "sp = sum_and_product(2, 3)\n",
    "sp"
   ]
  },
  {
   "cell_type": "code",
   "execution_count": 100,
   "id": "208228c5",
   "metadata": {},
   "outputs": [
    {
     "data": {
      "text/plain": [
       "(15, 50)"
      ]
     },
     "execution_count": 100,
     "metadata": {},
     "output_type": "execute_result"
    }
   ],
   "source": [
    "s, p = sum_and_product(5, 10)\n",
    "s, p"
   ]
  },
  {
   "cell_type": "code",
   "execution_count": 101,
   "id": "427cc147",
   "metadata": {},
   "outputs": [
    {
     "data": {
      "text/plain": [
       "(1, 2)"
      ]
     },
     "execution_count": 101,
     "metadata": {},
     "output_type": "execute_result"
    }
   ],
   "source": [
    "# Tuples (and lists) can also be used for multiple assignemnt\n",
    "\n",
    "x, y = 1, 2  # now x is 1, y is 2\n",
    "x, y"
   ]
  },
  {
   "cell_type": "code",
   "execution_count": 102,
   "id": "4ba8bd87",
   "metadata": {},
   "outputs": [
    {
     "data": {
      "text/plain": [
       "(2, 1)"
      ]
     },
     "execution_count": 102,
     "metadata": {},
     "output_type": "execute_result"
    }
   ],
   "source": [
    "x, y = y, x # Pythonic way to swap variables; now x is 2, y is 1\n",
    "x, y"
   ]
  },
  {
   "cell_type": "markdown",
   "id": "b0f67c67",
   "metadata": {},
   "source": [
    "### Dictonaries"
   ]
  },
  {
   "cell_type": "code",
   "execution_count": 104,
   "id": "64be5f2e",
   "metadata": {},
   "outputs": [
    {
     "data": {
      "text/plain": [
       "{}"
      ]
     },
     "execution_count": 104,
     "metadata": {},
     "output_type": "execute_result"
    }
   ],
   "source": [
    "empty_dict = {} # Pythonic\n",
    "empty_dict"
   ]
  },
  {
   "cell_type": "code",
   "execution_count": 106,
   "id": "f2249b96",
   "metadata": {},
   "outputs": [
    {
     "data": {
      "text/plain": [
       "{}"
      ]
     },
     "execution_count": 106,
     "metadata": {},
     "output_type": "execute_result"
    }
   ],
   "source": [
    "empty_dict2 = dict() # less Pythonic\n",
    "empty_dict2"
   ]
  },
  {
   "cell_type": "code",
   "execution_count": 107,
   "id": "19daa789",
   "metadata": {},
   "outputs": [
    {
     "data": {
      "text/plain": [
       "{'Joel': 80, 'Tim': 95}"
      ]
     },
     "execution_count": 107,
     "metadata": {},
     "output_type": "execute_result"
    }
   ],
   "source": [
    "grades = {'Joel': 80, 'Tim': 95} # dictionary literal\n",
    "grades"
   ]
  },
  {
   "cell_type": "code",
   "execution_count": 108,
   "id": "4b745b83",
   "metadata": {},
   "outputs": [
    {
     "data": {
      "text/plain": [
       "80"
      ]
     },
     "execution_count": 108,
     "metadata": {},
     "output_type": "execute_result"
    }
   ],
   "source": [
    "joels_grade = grades['Joel']\n",
    "joels_grade"
   ]
  },
  {
   "cell_type": "code",
   "execution_count": 109,
   "id": "08fc424a",
   "metadata": {},
   "outputs": [
    {
     "name": "stdout",
     "output_type": "stream",
     "text": [
      " no grade for Kate!\n"
     ]
    }
   ],
   "source": [
    "# We get KeyError if we ask for a key that's not in the dictionary\n",
    "\n",
    "try:\n",
    "    kates_grade = grades['Kate']\n",
    "except KeyError:\n",
    "    print(' no grade for Kate!')"
   ]
  },
  {
   "cell_type": "code",
   "execution_count": 111,
   "id": "855bcf20",
   "metadata": {},
   "outputs": [
    {
     "data": {
      "text/plain": [
       "True"
      ]
     },
     "execution_count": 111,
     "metadata": {},
     "output_type": "execute_result"
    }
   ],
   "source": [
    "# we can check for the existence of a key using in\n",
    "\n",
    "joel_has_grade = 'Joel' in grades # True\n",
    "joel_has_grade"
   ]
  },
  {
   "cell_type": "code",
   "execution_count": 112,
   "id": "c0ef0072",
   "metadata": {},
   "outputs": [
    {
     "data": {
      "text/plain": [
       "False"
      ]
     },
     "execution_count": 112,
     "metadata": {},
     "output_type": "execute_result"
    }
   ],
   "source": [
    "kate_has_grade = 'Kate' in grades # false\n",
    "kate_has_grade"
   ]
  },
  {
   "cell_type": "code",
   "execution_count": 113,
   "id": "2cfa00a5",
   "metadata": {},
   "outputs": [
    {
     "data": {
      "text/plain": [
       "{'Joel': 80, 'Tim': 99}"
      ]
     },
     "execution_count": 113,
     "metadata": {},
     "output_type": "execute_result"
    }
   ],
   "source": [
    "# Dictionay have a get method that returns a default value(instead of raising an exception)\n",
    "\n",
    "grades['Tim'] = 99 # replace the old value\n",
    "grades"
   ]
  },
  {
   "cell_type": "code",
   "execution_count": 114,
   "id": "e09f1567",
   "metadata": {},
   "outputs": [
    {
     "data": {
      "text/plain": [
       "{'Joel': 80, 'Tim': 99, 'Kate': 100}"
      ]
     },
     "execution_count": 114,
     "metadata": {},
     "output_type": "execute_result"
    }
   ],
   "source": [
    "grades['Kate'] = 100 # add a third entry\n",
    "grades"
   ]
  },
  {
   "cell_type": "code",
   "execution_count": 115,
   "id": "fd4887d6",
   "metadata": {},
   "outputs": [
    {
     "data": {
      "text/plain": [
       "3"
      ]
     },
     "execution_count": 115,
     "metadata": {},
     "output_type": "execute_result"
    }
   ],
   "source": [
    "num_students = len(grades)\n",
    "num_students"
   ]
  },
  {
   "cell_type": "code",
   "execution_count": 118,
   "id": "dfb6e6ab",
   "metadata": {},
   "outputs": [
    {
     "data": {
      "text/plain": [
       "{'user': 'joelgrus',\n",
       " 'text': 'Data Science is Awesome',\n",
       " 'retweet_count': 100,\n",
       " 'hashtags': ['data', 'sciecne', 'datascience', '#Awesome', '#yolo']}"
      ]
     },
     "execution_count": 118,
     "metadata": {},
     "output_type": "execute_result"
    }
   ],
   "source": [
    "# we can use dictionaries to represent structured data\n",
    "\n",
    "tweet = {\n",
    "            \"user\" : \"joelgrus\",\n",
    "            \"text\" : \"Data Science is Awesome\",\n",
    "            \"retweet_count\" : 100, \n",
    "            \"hashtags\" : [\"data\", \"sciecne\", \"datascience\", \"#Awesome\", \"#yolo\"]\n",
    "}\n",
    "\n",
    "tweet"
   ]
  },
  {
   "cell_type": "code",
   "execution_count": 120,
   "id": "22fdecd3",
   "metadata": {},
   "outputs": [
    {
     "data": {
      "text/plain": [
       "dict_keys(['user', 'text', 'retweet_count', 'hashtags'])"
      ]
     },
     "execution_count": 120,
     "metadata": {},
     "output_type": "execute_result"
    }
   ],
   "source": [
    "tweet_keys = tweet.keys()\n",
    "tweet_keys"
   ]
  },
  {
   "cell_type": "code",
   "execution_count": 121,
   "id": "92cc74df",
   "metadata": {},
   "outputs": [
    {
     "data": {
      "text/plain": [
       "dict_values(['joelgrus', 'Data Science is Awesome', 100, ['data', 'sciecne', 'datascience', '#Awesome', '#yolo']])"
      ]
     },
     "execution_count": 121,
     "metadata": {},
     "output_type": "execute_result"
    }
   ],
   "source": [
    "tweet_values = tweet.values()\n",
    "tweet_values"
   ]
  },
  {
   "cell_type": "code",
   "execution_count": 130,
   "id": "24817d1a",
   "metadata": {},
   "outputs": [
    {
     "data": {
      "text/plain": [
       "dict_items([('user', 'joelgrus'), ('text', 'Data Science is Awesome'), ('retweet_count', 100), ('hashtags', ['data', 'sciecne', 'datascience', '#Awesome', '#yolo'])])"
      ]
     },
     "execution_count": 130,
     "metadata": {},
     "output_type": "execute_result"
    }
   ],
   "source": [
    "tweet_items = tweet.items() # Iterable for the (key, value) tuples\n",
    "tweet_items"
   ]
  },
  {
   "cell_type": "code",
   "execution_count": 127,
   "id": "f4fd1a34",
   "metadata": {},
   "outputs": [
    {
     "data": {
      "text/plain": [
       "True"
      ]
     },
     "execution_count": 127,
     "metadata": {},
     "output_type": "execute_result"
    }
   ],
   "source": [
    "\"user\" in tweet_keys # True, but not Pythonic"
   ]
  },
  {
   "cell_type": "code",
   "execution_count": 128,
   "id": "e8dbe65a",
   "metadata": {},
   "outputs": [
    {
     "data": {
      "text/plain": [
       "True"
      ]
     },
     "execution_count": 128,
     "metadata": {},
     "output_type": "execute_result"
    }
   ],
   "source": [
    "\"user\" in tweet # Pythonic way of chekcing for keys"
   ]
  },
  {
   "cell_type": "code",
   "execution_count": 129,
   "id": "23d23d7c",
   "metadata": {},
   "outputs": [
    {
     "data": {
      "text/plain": [
       "True"
      ]
     },
     "execution_count": 129,
     "metadata": {},
     "output_type": "execute_result"
    }
   ],
   "source": [
    "\"joelgrus\" in tweet_values # True (slow but the only way to check)"
   ]
  },
  {
   "cell_type": "markdown",
   "id": "1dfa2328",
   "metadata": {},
   "source": [
    "### defauldict"
   ]
  },
  {
   "cell_type": "code",
   "execution_count": 135,
   "id": "43a8f36e",
   "metadata": {},
   "outputs": [],
   "source": [
    "# Imagine that you’re trying to count the words in a document. An obvious approach is to create a dictionary in which \n",
    "# the keys are words and the values are counts. As you check each word, you can increment its count if it’s already in \n",
    "# the dictionary and add it to the dictionary if it’s not:\n",
    "\n",
    "\n",
    "# # word_counts = {}\n",
    "# # for word in document:\n",
    "# #     if word in word_counts:\n",
    "# #         word_counts[word] += 1\n",
    "# #     else:\n",
    "# #         word_counts[word] = 1"
   ]
  },
  {
   "cell_type": "code",
   "execution_count": 136,
   "id": "6c10659e",
   "metadata": {},
   "outputs": [],
   "source": [
    "# You could also use the “forgiveness is better than permission” approach and just handle the exception from trying \n",
    "# to look up a missing key:\n",
    "    \n",
    "# word_counts = {}\n",
    "# for word in document:\n",
    "# try:\n",
    "# word_counts[word] += 1\n",
    "# except KeyError:\n",
    "# word_counts[word] = 1"
   ]
  },
  {
   "cell_type": "code",
   "execution_count": 137,
   "id": "aac63b97",
   "metadata": {},
   "outputs": [],
   "source": [
    "# A third approach is to use get, which behaves gracefully for missing keys:\n",
    "    \n",
    "# word_counts = {}\n",
    "# for word in document:\n",
    "# previous_count = word_counts.get(word, 0)\n",
    "# word_counts[word] = previous_count + 1"
   ]
  },
  {
   "cell_type": "markdown",
   "id": "cc39f1cc",
   "metadata": {},
   "source": [
    "**A defaultdict is like a regular dictionary, except that when you try\n",
    "to look up a key it doesn’t contain, it first adds a value for it using a zero-\n",
    "argument function you provided when you created it. In order to use\n",
    "defaultdicts, you have to import them from collections:**"
   ]
  },
  {
   "cell_type": "code",
   "execution_count": 139,
   "id": "68209e55",
   "metadata": {},
   "outputs": [],
   "source": [
    "# from collections import defaultdict\n",
    "\n",
    "# word_counds = defaultdict(int) # int() produces 0\n",
    "# for word in document:\n",
    "#     word_counts[word] += 1"
   ]
  },
  {
   "cell_type": "code",
   "execution_count": 140,
   "id": "54d9a498",
   "metadata": {},
   "outputs": [],
   "source": [
    "# They can also be useful with list or dict, or even your own functions:\n",
    "\n",
    "# dd_list = defaultdict(list) # list() produces an empty list\n",
    "\n",
    "# dd_list[2].append(1) # now dd_list contains {2: [1]}\n",
    "\n",
    "# dd_dict = defaultdict(dict) # dict() produces an empty dict\n",
    "\n",
    "# dd_dict[\"Joel\"][\"City\"] = \"Seattle\" # {\"Joel\" : {\"City\": Seattle\"}}\n",
    "\n",
    "# dd_pair = defaultdict(lambda: [0, 0])\n",
    "\n",
    "# # dd_pair[2][1] = 1 # now dd_pair contains {2: [0, 1]}"
   ]
  },
  {
   "cell_type": "markdown",
   "id": "b387e89e",
   "metadata": {},
   "source": [
    "### Counters"
   ]
  },
  {
   "cell_type": "markdown",
   "id": "16042a29",
   "metadata": {},
   "source": [
    "**A Counter turns a sequence of values into a defaultdict(int)-like object\n",
    "mapping keys to counts:**"
   ]
  },
  {
   "cell_type": "code",
   "execution_count": 142,
   "id": "9e4c6688",
   "metadata": {},
   "outputs": [
    {
     "data": {
      "text/plain": [
       "Counter({0: 2, 1: 1, 2: 1})"
      ]
     },
     "execution_count": 142,
     "metadata": {},
     "output_type": "execute_result"
    }
   ],
   "source": [
    "from collections import Counter\n",
    "\n",
    "c = Counter([0, 1, 2, 0]) # c is (basically) {0: 2, 1: 1, 2: 1}\n",
    "c"
   ]
  },
  {
   "cell_type": "code",
   "execution_count": 145,
   "id": "cee85208",
   "metadata": {},
   "outputs": [],
   "source": [
    "# # This gives us a very simple way to solve our word_counts problem:\n",
    "    \n",
    "# # recall, document is a list of words\n",
    "# word_counts = Counter(document)"
   ]
  },
  {
   "cell_type": "code",
   "execution_count": 148,
   "id": "fc9e6abb",
   "metadata": {},
   "outputs": [],
   "source": [
    "# A Counter instance has a most_common method that is frequently useful:\n",
    "    \n",
    "# print the 10 most common words and their counts\n",
    "# for word, count in word_counts.most_common(10):\n",
    "#      print(word, count)"
   ]
  },
  {
   "cell_type": "markdown",
   "id": "871c8f95",
   "metadata": {},
   "source": [
    "### Sets"
   ]
  },
  {
   "cell_type": "code",
   "execution_count": 149,
   "id": "d2954b86",
   "metadata": {},
   "outputs": [
    {
     "data": {
      "text/plain": [
       "{2, 3, 5, 7}"
      ]
     },
     "execution_count": 149,
     "metadata": {},
     "output_type": "execute_result"
    }
   ],
   "source": [
    "# Another useful data structure is set, which represents a collection of distinct\n",
    "# elements. You can define a set by listing its elements between curly braces\n",
    "\n",
    "primes_below_10 = {2, 3, 5, 7}\n",
    "primes_below_10"
   ]
  },
  {
   "cell_type": "code",
   "execution_count": 150,
   "id": "7c570cd9",
   "metadata": {},
   "outputs": [
    {
     "data": {
      "text/plain": [
       "set()"
      ]
     },
     "execution_count": 150,
     "metadata": {},
     "output_type": "execute_result"
    }
   ],
   "source": [
    "# However, that doesn’t work for empty sets, as {} already means “empty\n",
    "# dict.” In that case you’ll need to use set() itself:\n",
    "\n",
    "s = set()\n",
    "s"
   ]
  },
  {
   "cell_type": "code",
   "execution_count": 152,
   "id": "1f3ef1df",
   "metadata": {},
   "outputs": [
    {
     "data": {
      "text/plain": [
       "{1}"
      ]
     },
     "execution_count": 152,
     "metadata": {},
     "output_type": "execute_result"
    }
   ],
   "source": [
    "s.add(1) # s is now {1}\n",
    "s"
   ]
  },
  {
   "cell_type": "code",
   "execution_count": 153,
   "id": "1534c3b6",
   "metadata": {},
   "outputs": [
    {
     "data": {
      "text/plain": [
       "{1, 2}"
      ]
     },
     "execution_count": 153,
     "metadata": {},
     "output_type": "execute_result"
    }
   ],
   "source": [
    "s.add(2) # s is now {1, 2}\n",
    "s"
   ]
  },
  {
   "cell_type": "code",
   "execution_count": 154,
   "id": "22133166",
   "metadata": {},
   "outputs": [
    {
     "data": {
      "text/plain": [
       "{1, 2}"
      ]
     },
     "execution_count": 154,
     "metadata": {},
     "output_type": "execute_result"
    }
   ],
   "source": [
    "s.add(2) # s is still {1, 2}\n",
    "s"
   ]
  },
  {
   "cell_type": "code",
   "execution_count": 155,
   "id": "d67bd16a",
   "metadata": {},
   "outputs": [
    {
     "data": {
      "text/plain": [
       "2"
      ]
     },
     "execution_count": 155,
     "metadata": {},
     "output_type": "execute_result"
    }
   ],
   "source": [
    "x = len(s) # equals 2\n",
    "x"
   ]
  },
  {
   "cell_type": "code",
   "execution_count": 156,
   "id": "3294c5e3",
   "metadata": {},
   "outputs": [
    {
     "data": {
      "text/plain": [
       "True"
      ]
     },
     "execution_count": 156,
     "metadata": {},
     "output_type": "execute_result"
    }
   ],
   "source": [
    "y = 2 in s # equals 2\n",
    "y"
   ]
  },
  {
   "cell_type": "code",
   "execution_count": 157,
   "id": "a024a962",
   "metadata": {},
   "outputs": [
    {
     "data": {
      "text/plain": [
       "False"
      ]
     },
     "execution_count": 157,
     "metadata": {},
     "output_type": "execute_result"
    }
   ],
   "source": [
    "z = 3 in s # equals False\n",
    "z"
   ]
  },
  {
   "cell_type": "markdown",
   "id": "17400e27",
   "metadata": {},
   "source": [
    "**We’ll use sets for two main reasons.**"
   ]
  },
  {
   "cell_type": "markdown",
   "id": "a994a426",
   "metadata": {},
   "source": [
    "The first is that in is a very fast operation on sets. If we have a large collection of items that we want to use\n",
    "for a membership test, a set is more appropriate than a list:"
   ]
  },
  {
   "cell_type": "code",
   "execution_count": null,
   "id": "1c8fbef6",
   "metadata": {},
   "outputs": [],
   "source": [
    "stopwords_list = [\"a\", \"an\", \"at\"] + hundreds_of_other_words + [\"yet\", \"you\"]\n",
    "\n",
    "\"zip\" in stopwords_list # False, but have to check every element\n",
    "\n",
    "stopwords_set = set(stopwords_list)\n",
    "\"zip\" in stopwords_set # very fast to check"
   ]
  },
  {
   "cell_type": "markdown",
   "id": "19ad612c",
   "metadata": {},
   "source": [
    "The second reason is to find the distinct items in a collection:"
   ]
  },
  {
   "cell_type": "code",
   "execution_count": 159,
   "id": "a7106c3d",
   "metadata": {},
   "outputs": [
    {
     "data": {
      "text/plain": [
       "[1, 2, 3, 1, 2, 3]"
      ]
     },
     "execution_count": 159,
     "metadata": {},
     "output_type": "execute_result"
    }
   ],
   "source": [
    "item_list = [1, 2, 3, 1, 2, 3]\n",
    "item_list"
   ]
  },
  {
   "cell_type": "code",
   "execution_count": 160,
   "id": "db15f77f",
   "metadata": {},
   "outputs": [
    {
     "data": {
      "text/plain": [
       "6"
      ]
     },
     "execution_count": 160,
     "metadata": {},
     "output_type": "execute_result"
    }
   ],
   "source": [
    "num_items = len(item_list) # 6\n",
    "num_items"
   ]
  },
  {
   "cell_type": "code",
   "execution_count": 161,
   "id": "67ce895f",
   "metadata": {},
   "outputs": [
    {
     "data": {
      "text/plain": [
       "{1, 2, 3}"
      ]
     },
     "execution_count": 161,
     "metadata": {},
     "output_type": "execute_result"
    }
   ],
   "source": [
    "item_set = set(item_list) # {1, 2, 3}\n",
    "item_set"
   ]
  },
  {
   "cell_type": "code",
   "execution_count": 162,
   "id": "31e5ae70",
   "metadata": {},
   "outputs": [
    {
     "data": {
      "text/plain": [
       "3"
      ]
     },
     "execution_count": 162,
     "metadata": {},
     "output_type": "execute_result"
    }
   ],
   "source": [
    "num_distinct_items = len(item_set) # 3\n",
    "num_distinct_items"
   ]
  },
  {
   "cell_type": "code",
   "execution_count": 163,
   "id": "6dd377d9",
   "metadata": {},
   "outputs": [
    {
     "data": {
      "text/plain": [
       "[1, 2, 3]"
      ]
     },
     "execution_count": 163,
     "metadata": {},
     "output_type": "execute_result"
    }
   ],
   "source": [
    "distinct_item_list = list(item_set) # [1, 2, 3]\n",
    "distinct_item_list"
   ]
  },
  {
   "cell_type": "code",
   "execution_count": 164,
   "id": "1d2d7cba",
   "metadata": {},
   "outputs": [],
   "source": [
    "### Control Flow\n",
    "\n",
    "if 1 >  2:\n",
    "    message = \"if only 1 were greater that two...\"\n",
    "elif 1 > 3:\n",
    "    message = \"elif stands for 'else if'\"\n",
    "else:\n",
    "    message = \"when all else fails use else (if you want to)\""
   ]
  },
  {
   "cell_type": "code",
   "execution_count": 165,
   "id": "77ef6493",
   "metadata": {},
   "outputs": [],
   "source": [
    "# You can also write a ternary if-then-else on one line, which we will do occasionally\n",
    "\n",
    "parity = \"even\" if x % 2 == 0 else \"odd\""
   ]
  },
  {
   "cell_type": "code",
   "execution_count": null,
   "id": "9f54fc1d",
   "metadata": {},
   "outputs": [],
   "source": [
    "# while loop\n",
    "\n",
    "x = 0\n",
    "while x < 10:\n",
    "    print(f\"{x} is less than 10\")"
   ]
  },
  {
   "cell_type": "code",
   "execution_count": 167,
   "id": "55834dea",
   "metadata": {},
   "outputs": [
    {
     "name": "stdout",
     "output_type": "stream",
     "text": [
      "5\n"
     ]
    }
   ],
   "source": [
    "# although more often we’ll use for and in:\n",
    "\n",
    "for x in range (10):\n",
    "    if x == 3:\n",
    "        continue # go immediately to the next iteration\n",
    "    if x == 5:\n",
    "        break # quit the loop entirely\n",
    "print(x)"
   ]
  },
  {
   "cell_type": "markdown",
   "id": "c3dd3964",
   "metadata": {},
   "source": [
    "### Truthiness"
   ]
  },
  {
   "cell_type": "code",
   "execution_count": 171,
   "id": "a90bcd44",
   "metadata": {},
   "outputs": [
    {
     "data": {
      "text/plain": [
       "True"
      ]
     },
     "execution_count": 171,
     "metadata": {},
     "output_type": "execute_result"
    }
   ],
   "source": [
    "one_is_less_than_two = 1 < 2 # equals True\n",
    "one_is_less_than_two"
   ]
  },
  {
   "cell_type": "code",
   "execution_count": 172,
   "id": "9619d478",
   "metadata": {},
   "outputs": [
    {
     "data": {
      "text/plain": [
       "False"
      ]
     },
     "execution_count": 172,
     "metadata": {},
     "output_type": "execute_result"
    }
   ],
   "source": [
    "true_equals_false = True == False # equals False\n",
    "true_equals_false"
   ]
  },
  {
   "cell_type": "code",
   "execution_count": 175,
   "id": "f1f2ee89",
   "metadata": {},
   "outputs": [],
   "source": [
    "# Python uses the value None to indicate a nonexistent value. It is similar to other languages’ null:\n",
    "\n",
    "x = None\n",
    "\n",
    "assert x == None, \"this is the not the Pythonic way to check for None\""
   ]
  },
  {
   "cell_type": "code",
   "execution_count": 176,
   "id": "3325cf30",
   "metadata": {},
   "outputs": [],
   "source": [
    "assert x is None, \"this is the Pythonic way to check for None\""
   ]
  },
  {
   "cell_type": "markdown",
   "id": "5a989ffc",
   "metadata": {},
   "source": [
    "### Sorted"
   ]
  },
  {
   "cell_type": "code",
   "execution_count": 180,
   "id": "fb540ef1",
   "metadata": {},
   "outputs": [
    {
     "data": {
      "text/plain": [
       "[4, 1, 2, 3]"
      ]
     },
     "execution_count": 180,
     "metadata": {},
     "output_type": "execute_result"
    }
   ],
   "source": [
    "x = [4, 1, 2, 3]\n",
    "\n",
    "x"
   ]
  },
  {
   "cell_type": "code",
   "execution_count": 181,
   "id": "75dd16d9",
   "metadata": {},
   "outputs": [
    {
     "data": {
      "text/plain": [
       "[1, 2, 3, 4]"
      ]
     },
     "execution_count": 181,
     "metadata": {},
     "output_type": "execute_result"
    }
   ],
   "source": [
    "y = sorted(x) # y is [1, 2, 3, 4],  x is unchanged\n",
    "\n",
    "y"
   ]
  },
  {
   "cell_type": "code",
   "execution_count": 183,
   "id": "3ce741ef",
   "metadata": {},
   "outputs": [
    {
     "data": {
      "text/plain": [
       "[1, 2, 3, 4]"
      ]
     },
     "execution_count": 183,
     "metadata": {},
     "output_type": "execute_result"
    }
   ],
   "source": [
    "x.sort() # now x is [1, 2, 3, 4]\n",
    "\n",
    "x"
   ]
  },
  {
   "cell_type": "code",
   "execution_count": 185,
   "id": "c476daa6",
   "metadata": {},
   "outputs": [
    {
     "data": {
      "text/plain": [
       "[-4, 3, -2, 1]"
      ]
     },
     "execution_count": 185,
     "metadata": {},
     "output_type": "execute_result"
    }
   ],
   "source": [
    "# sort the list by absolute value from largest to smallest\n",
    "\n",
    "x = sorted([-4, 1, -2, 3], key=abs, reverse=True) # is [-4, 3, -2, 1]\n",
    "\n",
    "x"
   ]
  },
  {
   "cell_type": "code",
   "execution_count": 186,
   "id": "6036a13b",
   "metadata": {},
   "outputs": [
    {
     "data": {
      "text/plain": [
       "[]"
      ]
     },
     "execution_count": 186,
     "metadata": {},
     "output_type": "execute_result"
    }
   ],
   "source": [
    "# sort the words and counts from highest count to lowest\n",
    "\n",
    "wc = sorted(word_counts.items(),key=lambda word_and_count: word_and_count[1],reverse=True)\n",
    "\n",
    "wc"
   ]
  },
  {
   "cell_type": "markdown",
   "id": "bdb96d41",
   "metadata": {},
   "source": [
    "### List Comprehensions"
   ]
  },
  {
   "cell_type": "code",
   "execution_count": 1,
   "id": "d3151da4",
   "metadata": {},
   "outputs": [],
   "source": [
    "# Frequently, you’ll want to transform a list into another list by choosing only\n",
    "# certain elements, by transforming elements, or both. The Pythonic way to\n",
    "# # do this is with list comprehensions"
   ]
  },
  {
   "cell_type": "code",
   "execution_count": 3,
   "id": "6cb8c0c7",
   "metadata": {},
   "outputs": [
    {
     "data": {
      "text/plain": [
       "[0, 2, 4]"
      ]
     },
     "execution_count": 3,
     "metadata": {},
     "output_type": "execute_result"
    }
   ],
   "source": [
    "even_numbers = [x for x in range (5) if x % 2 == 0] # [0, 2, 4]\n",
    "even_numbers "
   ]
  },
  {
   "cell_type": "code",
   "execution_count": 4,
   "id": "be4a73ba",
   "metadata": {},
   "outputs": [
    {
     "data": {
      "text/plain": [
       "[0, 1, 4, 9, 16]"
      ]
     },
     "execution_count": 4,
     "metadata": {},
     "output_type": "execute_result"
    }
   ],
   "source": [
    "squares = [x * x for x in range (5)] # [0, 1, 4, 9, 16]\n",
    "squares"
   ]
  },
  {
   "cell_type": "code",
   "execution_count": 5,
   "id": "146833fb",
   "metadata": {},
   "outputs": [
    {
     "data": {
      "text/plain": [
       "[0, 4, 16]"
      ]
     },
     "execution_count": 5,
     "metadata": {},
     "output_type": "execute_result"
    }
   ],
   "source": [
    "even_squares = [x * x for x in even_numbers] # [0, 4, 16]\n",
    "even_squares"
   ]
  },
  {
   "cell_type": "code",
   "execution_count": 6,
   "id": "e3b7e66f",
   "metadata": {},
   "outputs": [],
   "source": [
    "# You can similarly turn lists into dictionaries or sets"
   ]
  },
  {
   "cell_type": "code",
   "execution_count": 7,
   "id": "22b07e2b",
   "metadata": {},
   "outputs": [
    {
     "data": {
      "text/plain": [
       "{0: 0, 1: 1, 2: 4, 3: 9, 4: 16}"
      ]
     },
     "execution_count": 7,
     "metadata": {},
     "output_type": "execute_result"
    }
   ],
   "source": [
    "square_dict = { x : x * x for x in range (5)} # { 0: 0, 1: 1, 2: 4, 3: 9, 4: 16}\n",
    "square_dict"
   ]
  },
  {
   "cell_type": "code",
   "execution_count": 9,
   "id": "3bae4ff8",
   "metadata": {},
   "outputs": [
    {
     "data": {
      "text/plain": [
       "{1}"
      ]
     },
     "execution_count": 9,
     "metadata": {},
     "output_type": "execute_result"
    }
   ],
   "source": [
    "square_set = {x * x for x in [1, -1]} # {1}\n",
    "square_set"
   ]
  },
  {
   "cell_type": "code",
   "execution_count": 10,
   "id": "6179d43d",
   "metadata": {},
   "outputs": [],
   "source": [
    "# If you don’t need the value from the list, it’s common to use an underscore\n",
    "# as the variable:"
   ]
  },
  {
   "cell_type": "code",
   "execution_count": 12,
   "id": "8239a023",
   "metadata": {},
   "outputs": [
    {
     "data": {
      "text/plain": [
       "[0, 0, 0]"
      ]
     },
     "execution_count": 12,
     "metadata": {},
     "output_type": "execute_result"
    }
   ],
   "source": [
    "zeros = [0 for _ in even_numbers] # has the same length as even_nunbers\n",
    "zeros"
   ]
  },
  {
   "cell_type": "code",
   "execution_count": 16,
   "id": "d53a1688",
   "metadata": {},
   "outputs": [
    {
     "data": {
      "text/plain": [
       "[(0, 0),\n",
       " (0, 1),\n",
       " (0, 2),\n",
       " (0, 3),\n",
       " (0, 4),\n",
       " (0, 5),\n",
       " (0, 6),\n",
       " (0, 7),\n",
       " (0, 8),\n",
       " (0, 9),\n",
       " (1, 0),\n",
       " (1, 1),\n",
       " (1, 2),\n",
       " (1, 3),\n",
       " (1, 4),\n",
       " (1, 5),\n",
       " (1, 6),\n",
       " (1, 7),\n",
       " (1, 8),\n",
       " (1, 9),\n",
       " (2, 0),\n",
       " (2, 1),\n",
       " (2, 2),\n",
       " (2, 3),\n",
       " (2, 4),\n",
       " (2, 5),\n",
       " (2, 6),\n",
       " (2, 7),\n",
       " (2, 8),\n",
       " (2, 9),\n",
       " (3, 0),\n",
       " (3, 1),\n",
       " (3, 2),\n",
       " (3, 3),\n",
       " (3, 4),\n",
       " (3, 5),\n",
       " (3, 6),\n",
       " (3, 7),\n",
       " (3, 8),\n",
       " (3, 9),\n",
       " (4, 0),\n",
       " (4, 1),\n",
       " (4, 2),\n",
       " (4, 3),\n",
       " (4, 4),\n",
       " (4, 5),\n",
       " (4, 6),\n",
       " (4, 7),\n",
       " (4, 8),\n",
       " (4, 9),\n",
       " (5, 0),\n",
       " (5, 1),\n",
       " (5, 2),\n",
       " (5, 3),\n",
       " (5, 4),\n",
       " (5, 5),\n",
       " (5, 6),\n",
       " (5, 7),\n",
       " (5, 8),\n",
       " (5, 9),\n",
       " (6, 0),\n",
       " (6, 1),\n",
       " (6, 2),\n",
       " (6, 3),\n",
       " (6, 4),\n",
       " (6, 5),\n",
       " (6, 6),\n",
       " (6, 7),\n",
       " (6, 8),\n",
       " (6, 9),\n",
       " (7, 0),\n",
       " (7, 1),\n",
       " (7, 2),\n",
       " (7, 3),\n",
       " (7, 4),\n",
       " (7, 5),\n",
       " (7, 6),\n",
       " (7, 7),\n",
       " (7, 8),\n",
       " (7, 9),\n",
       " (8, 0),\n",
       " (8, 1),\n",
       " (8, 2),\n",
       " (8, 3),\n",
       " (8, 4),\n",
       " (8, 5),\n",
       " (8, 6),\n",
       " (8, 7),\n",
       " (8, 8),\n",
       " (8, 9),\n",
       " (9, 0),\n",
       " (9, 1),\n",
       " (9, 2),\n",
       " (9, 3),\n",
       " (9, 4),\n",
       " (9, 5),\n",
       " (9, 6),\n",
       " (9, 7),\n",
       " (9, 8),\n",
       " (9, 9)]"
      ]
     },
     "execution_count": 16,
     "metadata": {},
     "output_type": "execute_result"
    }
   ],
   "source": [
    "# A list comprehension can include multiple fors:\n",
    "pairs = [(x, y)\n",
    "        for x in range(10)\n",
    "        for y in range(10)] # 100 pairs (0,0) (0,1) ... (9, 8) (9, 9)\n",
    "pairs"
   ]
  },
  {
   "cell_type": "code",
   "execution_count": 15,
   "id": "a7bc4635",
   "metadata": {},
   "outputs": [
    {
     "data": {
      "text/plain": [
       "[(0, 1),\n",
       " (0, 2),\n",
       " (0, 3),\n",
       " (0, 4),\n",
       " (0, 5),\n",
       " (0, 6),\n",
       " (0, 7),\n",
       " (0, 8),\n",
       " (0, 9),\n",
       " (1, 2),\n",
       " (1, 3),\n",
       " (1, 4),\n",
       " (1, 5),\n",
       " (1, 6),\n",
       " (1, 7),\n",
       " (1, 8),\n",
       " (1, 9),\n",
       " (2, 3),\n",
       " (2, 4),\n",
       " (2, 5),\n",
       " (2, 6),\n",
       " (2, 7),\n",
       " (2, 8),\n",
       " (2, 9),\n",
       " (3, 4),\n",
       " (3, 5),\n",
       " (3, 6),\n",
       " (3, 7),\n",
       " (3, 8),\n",
       " (3, 9),\n",
       " (4, 5),\n",
       " (4, 6),\n",
       " (4, 7),\n",
       " (4, 8),\n",
       " (4, 9),\n",
       " (5, 6),\n",
       " (5, 7),\n",
       " (5, 8),\n",
       " (5, 9),\n",
       " (6, 7),\n",
       " (6, 8),\n",
       " (6, 9),\n",
       " (7, 8),\n",
       " (7, 9),\n",
       " (8, 9)]"
      ]
     },
     "execution_count": 15,
     "metadata": {},
     "output_type": "execute_result"
    }
   ],
   "source": [
    "# and later fors can use the results of earlier ones:\n",
    "\n",
    "pairs = [(x, y)                       # only pairs with x < y,\n",
    "        for x in range (10)           # range (lo, hi) equals\n",
    "        for y in range (x + 1, 10)]   # [lo, lo + 1, .., hi - 1]\n",
    "pairs"
   ]
  },
  {
   "cell_type": "markdown",
   "id": "272ea8e4",
   "metadata": {},
   "source": [
    "### Automated Testing and assert "
   ]
  },
  {
   "cell_type": "markdown",
   "id": "a61c39b2",
   "metadata": {},
   "source": [
    "There are elaborate frameworks for writing and running tests, but in this\n",
    "book we’ll restrict ourselves to using assert statements, which will cause\n",
    "your code to raise an AssertionError if your specified condition is not\n",
    "truthy:\n"
   ]
  },
  {
   "cell_type": "code",
   "execution_count": 17,
   "id": "21e8b5cc",
   "metadata": {},
   "outputs": [],
   "source": [
    "assert 1 + 1 == 2\n",
    "assert 1 + 1 == 2, \"1 + 1 should equal 2 but didin't\"\n",
    "\n",
    "# There are elaborate frameworks for writing and running tests, but in this\n",
    "# book we’ll restrict ourselves to using assert statements, which will cause\n",
    "# your code to raise an AssertionError if your specified condition is not\n",
    "# truthy:"
   ]
  },
  {
   "cell_type": "code",
   "execution_count": 18,
   "id": "6255d686",
   "metadata": {},
   "outputs": [],
   "source": [
    "# It’s not particularly interesting to assert that 1 + 1 = 2. What’s more\n",
    "# interesting is to assert that functions you write are doing what you expect\n",
    "# them to:\n",
    "\n",
    "def smallest_item (xs):\n",
    "    return min(xs)"
   ]
  },
  {
   "cell_type": "code",
   "execution_count": 19,
   "id": "372c3a34",
   "metadata": {},
   "outputs": [],
   "source": [
    "assert smallest_item([10, 20, 5, 40]) == 5"
   ]
  },
  {
   "cell_type": "code",
   "execution_count": 20,
   "id": "de49ee89",
   "metadata": {},
   "outputs": [],
   "source": [
    "assert smallest_item ([1, 0, -1, 2]) == -1"
   ]
  },
  {
   "cell_type": "markdown",
   "id": "6faaae2c",
   "metadata": {},
   "source": [
    "Throughout the book we’ll be using assert in this way. It is a good\n",
    "practice, and I strongly encourage you to make liberal use of it in your own\n",
    "code. (If you look at the book’s code on GitHub, you will see that it\n",
    "contains many, many more assert statements than are printed in the book.\n",
    "This helps me be confident that the code I’ve written for you is correct.)\n",
    "Another less common use is to assert things about inputs to functions:"
   ]
  },
  {
   "cell_type": "code",
   "execution_count": 21,
   "id": "82cd5878",
   "metadata": {},
   "outputs": [],
   "source": [
    "def smallest_item (xs):\n",
    "    assert xs, \"empty list has no smallest item\"\n",
    "    return min(xs)"
   ]
  },
  {
   "cell_type": "markdown",
   "id": "4bdab903",
   "metadata": {},
   "source": [
    "### Object-Oriented Programming"
   ]
  },
  {
   "cell_type": "markdown",
   "id": "7308b5fc",
   "metadata": {},
   "source": [
    "Here we’ll construct a class representing a “counting clicker,” the sort that\n",
    "is used at the door to track how many people have shown up for the\n",
    "“advanced topics in data science” meetup.\n",
    "It maintains a count, can be clicked to increment the count, allows you to\n",
    "read_count, and can be reset back to zero. (In real life one of these rolls\n",
    "over from 9999 to 0000, but we won’t bother with that.)"
   ]
  },
  {
   "cell_type": "code",
   "execution_count": null,
   "id": "a17240c8",
   "metadata": {},
   "outputs": [],
   "source": [
    "# To define a class, you use the class keyword and a PascalCase name:\n",
    "\n",
    "class CountingClicker:\n",
    "    \"\"\"A class can/should have a docstring, just like a function\"\"\""
   ]
  },
  {
   "cell_type": "markdown",
   "id": "9877bab9",
   "metadata": {},
   "source": [
    "A class contains zero or more member functions. By convention, each takes\n",
    "a first parameter, self, that refers to the particular class instance.\n",
    "Normally, a class has a constructor, named __init__. It takes whatever\n",
    "parameters you need to construct an instance of your class and does\n",
    "whatever setup you need:\n"
   ]
  },
  {
   "cell_type": "code",
   "execution_count": null,
   "id": "aff8b75c",
   "metadata": {},
   "outputs": [],
   "source": [
    "def __init__(self, count = 0):\n",
    "    self.count = count"
   ]
  },
  {
   "cell_type": "code",
   "execution_count": null,
   "id": "008f1a7b",
   "metadata": {},
   "outputs": [],
   "source": [
    "# Although the constructor has a funny name, we construct instances of the\n",
    "# clicker using just the class name:\n",
    "\n",
    "clicker1 = CountingClicker()  # initialized to 0\n",
    "clicker2 = CountingClicker(100) # starts with count = 100\n",
    "clicker3 = CountingClicker(count = 100) # more explicit way of doing the same"
   ]
  },
  {
   "cell_type": "markdown",
   "id": "549a15b0",
   "metadata": {},
   "source": [
    "Another such method is __repr__, which produces the string representation\n",
    "of a class instance:"
   ]
  },
  {
   "cell_type": "markdown",
   "id": "814fe30b",
   "metadata": {},
   "source": [
    "And finally we need to implement the public API of our class:\n"
   ]
  },
  {
   "cell_type": "code",
   "execution_count": 23,
   "id": "d4866388",
   "metadata": {},
   "outputs": [],
   "source": [
    "class CountingClicker:\n",
    "    \"\"\"A class can/should have a docstring, just like a function\"\"\"\n",
    "\n",
    "    def __init__(self, count = 0):\n",
    "        self.count = count\n",
    "\n",
    "    def __repr__(self):\n",
    "        return f\"CountingClicker(count={self.count})\"\n",
    "\n",
    "    def click(self, num_times = 1):\n",
    "        \"\"\"Click the clicker some number of times.\"\"\"\n",
    "        self.count += num_times\n",
    "\n",
    "    def read(self):\n",
    "        return self.count\n",
    "\n",
    "    def reset(self):\n",
    "        self.count = 0\n",
    "\n",
    "clicker = CountingClicker()\n",
    "assert clicker.read() == 0, \"clicker should start with count 0\"\n",
    "clicker.click()\n",
    "clicker.click()\n",
    "assert clicker.read() == 2, \"after two clicks, clicker should have count 2\"\n",
    "clicker.reset()\n",
    "assert clicker.read() == 0, \"after reset, clicker should be back to 0\""
   ]
  },
  {
   "cell_type": "markdown",
   "id": "c08ef496",
   "metadata": {},
   "source": [
    "We’ll also occasionally create subclasses that inherit some of their\n",
    "functionality from a parent class. For example, we could create a non-resetable clicker by using CountingClicker as the base class and overriding the\n",
    "reset method to do nothing"
   ]
  },
  {
   "cell_type": "code",
   "execution_count": 24,
   "id": "5db6e71d",
   "metadata": {},
   "outputs": [],
   "source": [
    "# A subclass inherits all the behavior of its parent class.\n",
    "class NoResetClicker(CountingClicker):\n",
    "    # This class has all the same methods as CountingClicker\n",
    "\n",
    "    # Except that it has a reset method that does nothing.\n",
    "    def reset(self):\n",
    "        pass\n",
    "\n",
    "clicker2 = NoResetClicker()\n",
    "assert clicker2.read() == 0\n",
    "clicker2.click()\n",
    "assert clicker2.read() == 1\n",
    "clicker2.reset()\n",
    "assert clicker2.read() == 1, \"reset shouldn't do anything\""
   ]
  },
  {
   "cell_type": "markdown",
   "id": "a4111cac",
   "metadata": {},
   "source": [
    "### Iterables and Generators"
   ]
  },
  {
   "cell_type": "markdown",
   "id": "e6fdf9c8",
   "metadata": {},
   "source": [
    "Often all we need is to iterate over the collection using for and in. In this\n",
    "case we can create generators, which can be iterated over just like lists but\n",
    "generate their values lazily on demand.\n",
    "One way to create generators is with functions and the yield operator:\n"
   ]
  },
  {
   "cell_type": "code",
   "execution_count": 28,
   "id": "cb5dcfbd",
   "metadata": {},
   "outputs": [],
   "source": [
    "def generate_range(n): \n",
    "    i = 0\n",
    "    while i < n:\n",
    "        yield i # every call to yield produces a value of the generator\n",
    "        i += 1"
   ]
  },
  {
   "cell_type": "markdown",
   "id": "36ebe666",
   "metadata": {},
   "source": [
    "The following loop will consume the yielded values one at a time until\n",
    "none are left:\n"
   ]
  },
  {
   "cell_type": "code",
   "execution_count": 26,
   "id": "caee61aa",
   "metadata": {},
   "outputs": [
    {
     "name": "stdout",
     "output_type": "stream",
     "text": [
      "i: 0\n",
      "i: 1\n",
      "i: 2\n",
      "i: 3\n",
      "i: 4\n",
      "i: 5\n",
      "i: 6\n",
      "i: 7\n",
      "i: 8\n",
      "i: 9\n"
     ]
    }
   ],
   "source": [
    "for i in generate_range(10):\n",
    "    print(f\"i: {i}\")"
   ]
  },
  {
   "cell_type": "markdown",
   "id": "69a71538",
   "metadata": {},
   "source": [
    "(In fact, range is itself lazy, so there’s no point in doing this.)\n",
    "With a generator, you can even create an infinite sequence:"
   ]
  },
  {
   "cell_type": "code",
   "execution_count": 29,
   "id": "3df40f4f",
   "metadata": {},
   "outputs": [],
   "source": [
    "def natural_numbers():\n",
    "    \"\"\"returns 1, 2, 3, ...\"\"\"\n",
    "    n = 1\n",
    "    while True:\n",
    "        yield n\n",
    "        n += 1"
   ]
  },
  {
   "cell_type": "markdown",
   "id": "b732eaa0",
   "metadata": {},
   "source": [
    "although you probably shouldn’t iterate over it without using some kind of\n",
    "break logic.\n"
   ]
  },
  {
   "cell_type": "code",
   "execution_count": 30,
   "id": "3eb61856",
   "metadata": {},
   "outputs": [
    {
     "name": "stdout",
     "output_type": "stream",
     "text": [
      "i: 0\n",
      "i: 1\n",
      "i: 2\n",
      "i: 3\n",
      "i: 4\n",
      "i: 5\n",
      "i: 6\n",
      "i: 7\n",
      "i: 8\n",
      "i: 9\n"
     ]
    }
   ],
   "source": [
    "def generate_range(n):\n",
    "    i = 0\n",
    "    while i < n:\n",
    "        yield i   # every call to yield produces a value of the generator\n",
    "        i += 1\n",
    "\n",
    "for i in generate_range(10):\n",
    "    print(f\"i: {i}\")\n",
    "\n",
    "def natural_numbers():\n",
    "    \"\"\"returns 1, 2, 3, ...\"\"\"\n",
    "    n = 1\n",
    "    while True:\n",
    "        yield n\n",
    "        n += 1"
   ]
  },
  {
   "cell_type": "markdown",
   "id": "2e54dcfc",
   "metadata": {},
   "source": [
    "A second way to create generators is by using for comprehensions wrapped\n",
    "in parentheses:"
   ]
  },
  {
   "cell_type": "code",
   "execution_count": 32,
   "id": "1fdd6ba5",
   "metadata": {},
   "outputs": [],
   "source": [
    "evens_below_20 = (i for i in generate_range(20) if i % 2 == 0)"
   ]
  },
  {
   "cell_type": "markdown",
   "id": "8d6e97e4",
   "metadata": {},
   "source": [
    "Such a “generator comprehension” doesn’t do any work until you iterate\n",
    "over it (using for or next). We can use this to build up elaborate dataprocessing pipelines:"
   ]
  },
  {
   "cell_type": "code",
   "execution_count": 33,
   "id": "465531c8",
   "metadata": {},
   "outputs": [],
   "source": [
    "# None of these computations *does* anything until we iterate\n",
    "data = natural_numbers()\n",
    "evens = (x for x in data if x % 2 == 0)\n",
    "even_squares = (x ** 2 for x in evens)\n",
    "even_squares_ending_in_six = (x for x in even_squares if x % 10 == 6)\n",
    "# and so on"
   ]
  },
  {
   "cell_type": "code",
   "execution_count": 34,
   "id": "12c75838",
   "metadata": {},
   "outputs": [
    {
     "name": "stdout",
     "output_type": "stream",
     "text": [
      "name 0 is Alice\n",
      "name 1 is Bob\n",
      "name 2 is Charlie\n",
      "name 3 is Debbie\n",
      "name 0 is Alice\n",
      "name 1 is Bob\n",
      "name 2 is Charlie\n",
      "name 3 is Debbie\n",
      "name 0 is Alice\n",
      "name 1 is Bob\n",
      "name 2 is Charlie\n",
      "name 3 is Debbie\n"
     ]
    }
   ],
   "source": [
    "names = [\"Alice\", \"Bob\", \"Charlie\", \"Debbie\"]\n",
    "\n",
    "# not Pythonic\n",
    "for i in range(len(names)):\n",
    "    print(f\"name {i} is {names[i]}\")\n",
    "\n",
    "# also not Pythonic\n",
    "i = 0\n",
    "for name in names:\n",
    "    print(f\"name {i} is {names[i]}\")\n",
    "    i += 1\n",
    "\n",
    "# Pythonic\n",
    "for i, name in enumerate(names):\n",
    "    print(f\"name {i} is {name}\")"
   ]
  },
  {
   "cell_type": "markdown",
   "id": "fe9f2208",
   "metadata": {},
   "source": [
    "### Randomness"
   ]
  },
  {
   "cell_type": "code",
   "execution_count": 37,
   "id": "c2f98480",
   "metadata": {},
   "outputs": [
    {
     "data": {
      "text/plain": [
       "[0.5714025946899135,\n",
       " 0.4288890546751146,\n",
       " 0.5780913011344704,\n",
       " 0.20609823213950174]"
      ]
     },
     "execution_count": 37,
     "metadata": {},
     "output_type": "execute_result"
    }
   ],
   "source": [
    "import random\n",
    "random.seed(10)  # this ensures we get the same results every time\n",
    "\n",
    "four_uniform_randoms = [random.random() for _ in range(4)]\n",
    "# [0.5714025946899135, # random.random() produces numbers\n",
    "# 0.4288890546751146, # uniformly between 0 and 1.\n",
    "# 0.5780913011344704, # It's the random function we'll use\n",
    "# 0.20609823213950174] # most often.\n",
    "four_uniform_randoms"
   ]
  },
  {
   "cell_type": "markdown",
   "id": "015a6ab6",
   "metadata": {},
   "source": [
    "The random module actually produces pseudorandom (that is,\n",
    "deterministic) numbers based on an internal state that you can set with\n",
    "random.seed if you want to get reproducible results:\n"
   ]
  },
  {
   "cell_type": "code",
   "execution_count": 38,
   "id": "3c462181",
   "metadata": {},
   "outputs": [
    {
     "name": "stdout",
     "output_type": "stream",
     "text": [
      "0.5714025946899135\n",
      "0.5714025946899135\n"
     ]
    }
   ],
   "source": [
    "random.seed(10) # set the seed to 10\n",
    "print(random.random()) # 0.57140259469\n",
    "random.seed(10) # reset the seed to 10\n",
    "print(random.random()) # 0.57140259469 again"
   ]
  },
  {
   "cell_type": "markdown",
   "id": "74021ae5",
   "metadata": {},
   "source": [
    "We’ll sometimes use random.randrange, which takes either one or two\n",
    "arguments and returns an element chosen randomly from the corresponding\n",
    "range:"
   ]
  },
  {
   "cell_type": "code",
   "execution_count": 40,
   "id": "4340b4c0",
   "metadata": {},
   "outputs": [
    {
     "data": {
      "text/plain": [
       "9"
      ]
     },
     "execution_count": 40,
     "metadata": {},
     "output_type": "execute_result"
    }
   ],
   "source": [
    "random.randrange(10) # choose randomly from range(10) = [0, 1, ..., 9]"
   ]
  },
  {
   "cell_type": "code",
   "execution_count": 41,
   "id": "fee5de85",
   "metadata": {},
   "outputs": [
    {
     "data": {
      "text/plain": [
       "3"
      ]
     },
     "execution_count": 41,
     "metadata": {},
     "output_type": "execute_result"
    }
   ],
   "source": [
    "random.randrange(3, 6) # choose randomly from range(3, 6) = [3, 4, 5]"
   ]
  },
  {
   "cell_type": "markdown",
   "id": "9e3379f0",
   "metadata": {},
   "source": [
    "**random.shuffle** randomly reorders the elements of a list:\n"
   ]
  },
  {
   "cell_type": "code",
   "execution_count": 42,
   "id": "1f96d971",
   "metadata": {},
   "outputs": [
    {
     "name": "stdout",
     "output_type": "stream",
     "text": [
      "[10, 5, 6, 1, 2, 3, 7, 9, 8, 4]\n"
     ]
    }
   ],
   "source": [
    "up_to_ten = [1, 2, 3, 4, 5, 6, 7, 8, 9, 10]\n",
    "random.shuffle(up_to_ten)\n",
    "print(up_to_ten)\n",
    "# [7, 2, 6, 8, 9, 4, 10, 1, 3, 5] (your results will probably be different)"
   ]
  },
  {
   "cell_type": "markdown",
   "id": "291f3b06",
   "metadata": {},
   "source": [
    "If you need to randomly pick one element from a list, you can use\n",
    "**random.choice:**"
   ]
  },
  {
   "cell_type": "code",
   "execution_count": 44,
   "id": "754b7019",
   "metadata": {},
   "outputs": [
    {
     "data": {
      "text/plain": [
       "'Alice'"
      ]
     },
     "execution_count": 44,
     "metadata": {},
     "output_type": "execute_result"
    }
   ],
   "source": [
    "my_best_friend = random.choice([\"Alice\", \"Bob\", \"Charlie\"]) # \"Bob\" for me\n",
    "my_best_friend"
   ]
  },
  {
   "cell_type": "markdown",
   "id": "49b12f8f",
   "metadata": {},
   "source": [
    "And if you need to randomly choose a sample of elements without\n",
    "replacement (i.e., with no duplicates), you can use **random.sample**"
   ]
  },
  {
   "cell_type": "code",
   "execution_count": 46,
   "id": "17e45737",
   "metadata": {},
   "outputs": [
    {
     "data": {
      "text/plain": [
       "[38, 22, 24, 26, 18, 52]"
      ]
     },
     "execution_count": 46,
     "metadata": {},
     "output_type": "execute_result"
    }
   ],
   "source": [
    "lottery_numbers = range(60)\n",
    "winning_numbers = random.sample(lottery_numbers, 6) # [16, 36, 10, 6, 25, 9]\n",
    "winning_numbers"
   ]
  },
  {
   "cell_type": "markdown",
   "id": "ca82b4dd",
   "metadata": {},
   "source": [
    "To choose a sample of elements with replacement (i.e., allowing duplicates),\n",
    "you can just make multiple calls to **random.choice:**"
   ]
  },
  {
   "cell_type": "code",
   "execution_count": 47,
   "id": "1561c7e5",
   "metadata": {},
   "outputs": [
    {
     "name": "stdout",
     "output_type": "stream",
     "text": [
      "[4, 7, 2, 4]\n"
     ]
    }
   ],
   "source": [
    "four_with_replacement = [random.choice(range(10)) for _ in range(4)]\n",
    "print(four_with_replacement) # [9, 4, 4, 2]"
   ]
  },
  {
   "cell_type": "markdown",
   "id": "ae32dd5d",
   "metadata": {},
   "source": [
    "### Regular Expressions"
   ]
  },
  {
   "cell_type": "code",
   "execution_count": 48,
   "id": "3695ebab",
   "metadata": {},
   "outputs": [],
   "source": [
    "import re\n",
    "\n",
    "re_examples = [                        # all of these are true, because\n",
    "    not re.match(\"a\", \"cat\"),              #  'cat' doesn't start with 'a'\n",
    "    re.search(\"a\", \"cat\"),                 #  'cat' has an 'a' in it\n",
    "    not re.search(\"c\", \"dog\"),             #  'dog' doesn't have a 'c' in it\n",
    "    3 == len(re.split(\"[ab]\", \"carbs\")),   #  split on a or b to ['c','r','s']\n",
    "    \"R-D-\" == re.sub(\"[0-9]\", \"-\", \"R2D2\") #  replace digits with dashes\n",
    "    ]\n",
    "\n",
    "assert all(re_examples), \"all the regex examples should be True\""
   ]
  },
  {
   "cell_type": "markdown",
   "id": "a30fe1c6",
   "metadata": {},
   "source": [
    "One important thing to note is that **re.match** checks whether the beginning\n",
    "of a string matches a regular expression, while **re.search** checks whether\n",
    "any part of a string matches a regular expression. At some point you will\n",
    "mix these two up and it will cause you grief"
   ]
  },
  {
   "cell_type": "markdown",
   "id": "76ff0593",
   "metadata": {},
   "source": [
    "### Zip and Argument Unpacking"
   ]
  },
  {
   "cell_type": "markdown",
   "id": "42067da4",
   "metadata": {},
   "source": [
    "Often we will need to zip two or more iterables together. The zip function\n",
    "transforms multiple iterables into a single iterable of tuples of\n",
    "corresponding function:`"
   ]
  },
  {
   "cell_type": "code",
   "execution_count": 49,
   "id": "2cb95102",
   "metadata": {},
   "outputs": [
    {
     "data": {
      "text/plain": [
       "[('a', 1), ('b', 2), ('c', 3)]"
      ]
     },
     "execution_count": 49,
     "metadata": {},
     "output_type": "execute_result"
    }
   ],
   "source": [
    "list1 = ['a', 'b', 'c']\n",
    "list2 = [1, 2, 3]\n",
    "\n",
    "# zip is lazy, so you have to do something like the following\n",
    "[pair for pair in zip(list1, list2)] # is [('a', 1), ('b', 2), ('c', 3)]"
   ]
  },
  {
   "cell_type": "markdown",
   "id": "ca7d86ff",
   "metadata": {},
   "source": [
    "If the lists are different lengths, **zip** stops as soon as the first list ends.\n"
   ]
  },
  {
   "cell_type": "markdown",
   "id": "be9fc6e9",
   "metadata": {},
   "source": [
    "You can also “unzip” a list using a strange trick:"
   ]
  },
  {
   "cell_type": "code",
   "execution_count": 52,
   "id": "a22a2f7c",
   "metadata": {},
   "outputs": [
    {
     "data": {
      "text/plain": [
       "(('a', 'b', 'c'), (1, 2, 3))"
      ]
     },
     "execution_count": 52,
     "metadata": {},
     "output_type": "execute_result"
    }
   ],
   "source": [
    "pairs = [('a', 1), ('b', 2), ('c', 3)]\n",
    "letters, numbers = zip(*pairs)\n",
    "letters, numbers"
   ]
  },
  {
   "cell_type": "markdown",
   "id": "0018b879",
   "metadata": {},
   "source": [
    "The asterisk **(*)** performs argument unpacking, which uses the elements of\n",
    "pairs as individual arguments to zip. It ends up the same as if you’d\n",
    "called:"
   ]
  },
  {
   "cell_type": "code",
   "execution_count": 54,
   "id": "125bc791",
   "metadata": {},
   "outputs": [
    {
     "data": {
      "text/plain": [
       "(('a', 'b', 'c'), (1, 2, 3))"
      ]
     },
     "execution_count": 54,
     "metadata": {},
     "output_type": "execute_result"
    }
   ],
   "source": [
    "letters, numbers = zip(('a', 1), ('b', 2), ('c', 3))\n",
    "letters, numbers"
   ]
  },
  {
   "cell_type": "markdown",
   "id": "2ab78485",
   "metadata": {},
   "source": [
    "You can use argument unpacking with any function:"
   ]
  },
  {
   "cell_type": "code",
   "execution_count": 57,
   "id": "629e49f4",
   "metadata": {},
   "outputs": [
    {
     "data": {
      "text/plain": [
       "3"
      ]
     },
     "execution_count": 57,
     "metadata": {},
     "output_type": "execute_result"
    }
   ],
   "source": [
    "def add(a, b): return a + b\n",
    "\n",
    "add(1, 2)      # returns 3"
   ]
  },
  {
   "cell_type": "code",
   "execution_count": 58,
   "id": "f0cce284",
   "metadata": {},
   "outputs": [
    {
     "name": "stdout",
     "output_type": "stream",
     "text": [
      "add expects two inputs\n"
     ]
    },
    {
     "data": {
      "text/plain": [
       "3"
      ]
     },
     "execution_count": 58,
     "metadata": {},
     "output_type": "execute_result"
    }
   ],
   "source": [
    "try:\n",
    "    add([1, 2])\n",
    "except TypeError:\n",
    "    print(\"add expects two inputs\")\n",
    "    \n",
    "add(*[1, 2]) # returns 3"
   ]
  },
  {
   "cell_type": "markdown",
   "id": "6202b2cf",
   "metadata": {},
   "source": [
    "### args and kwargs"
   ]
  },
  {
   "cell_type": "markdown",
   "id": "5bbddb99",
   "metadata": {},
   "source": [
    "Let’s say we want to create a higher-order function that takes as input some\n",
    "function f and returns a new function that for any input returns twice the\n",
    "value of f:"
   ]
  },
  {
   "cell_type": "code",
   "execution_count": 60,
   "id": "a992d0f2",
   "metadata": {},
   "outputs": [],
   "source": [
    "def doubler(f):\n",
    "    # Here we define a new function that keeps a reference to f\n",
    "    def g(x):\n",
    "        return 2 * f(x)\n",
    "\n",
    "    # And return that new function.\n",
    "    return g"
   ]
  },
  {
   "cell_type": "markdown",
   "id": "6569ebce",
   "metadata": {},
   "source": [
    "This works in some cases:"
   ]
  },
  {
   "cell_type": "code",
   "execution_count": 61,
   "id": "25444fcb",
   "metadata": {},
   "outputs": [],
   "source": [
    "def f1(x):\n",
    "    return x + 1\n",
    "\n",
    "g = doubler(f1)\n",
    "assert g(3) == 8,  \"(3 + 1) * 2 should equal 8\"\n",
    "assert g(-1) == 0, \"(-1 + 1) * 2 should equal 0\""
   ]
  },
  {
   "cell_type": "markdown",
   "id": "ce165711",
   "metadata": {},
   "source": [
    "However, it doesn’t work with functions that take more than a single\n",
    "argument:"
   ]
  },
  {
   "cell_type": "code",
   "execution_count": 62,
   "id": "83501186",
   "metadata": {},
   "outputs": [
    {
     "name": "stdout",
     "output_type": "stream",
     "text": [
      "as defined, g only takes one argument\n"
     ]
    }
   ],
   "source": [
    "def f2(x, y):\n",
    "    return x + y\n",
    "\n",
    "g = doubler(f2)\n",
    "try:\n",
    "    g(1, 2)\n",
    "except TypeError:\n",
    "    print(\"as defined, g only takes one argument\")"
   ]
  },
  {
   "cell_type": "markdown",
   "id": "89346326",
   "metadata": {},
   "source": [
    "What we need is a way to specify a function that takes arbitrary arguments.\n",
    "We can do this with argument unpacking and a little bit of magic:"
   ]
  },
  {
   "cell_type": "code",
   "execution_count": 63,
   "id": "c354e819",
   "metadata": {},
   "outputs": [
    {
     "name": "stdout",
     "output_type": "stream",
     "text": [
      "unnamed args: (1, 2)\n",
      "keyword args: {'key': 'word', 'key2': 'word2'}\n"
     ]
    }
   ],
   "source": [
    "def magic(*args, **kwargs):\n",
    "    print(\"unnamed args:\", args)\n",
    "    print(\"keyword args:\", kwargs)\n",
    "\n",
    "magic(1, 2, key=\"word\", key2=\"word2\")\n",
    "\n",
    "# prints\n",
    "#  unnamed args: (1, 2)\n",
    "#  keyword args: {'key': 'word', 'key2': 'word2'}"
   ]
  },
  {
   "cell_type": "code",
   "execution_count": null,
   "id": "0e7f2578",
   "metadata": {},
   "outputs": [],
   "source": []
  }
 ],
 "metadata": {
  "kernelspec": {
   "display_name": "dsfs",
   "language": "python",
   "name": "dsfs"
  },
  "language_info": {
   "codemirror_mode": {
    "name": "ipython",
    "version": 3
   },
   "file_extension": ".py",
   "mimetype": "text/x-python",
   "name": "python",
   "nbconvert_exporter": "python",
   "pygments_lexer": "ipython3",
   "version": "3.11.9"
  }
 },
 "nbformat": 4,
 "nbformat_minor": 5
}
