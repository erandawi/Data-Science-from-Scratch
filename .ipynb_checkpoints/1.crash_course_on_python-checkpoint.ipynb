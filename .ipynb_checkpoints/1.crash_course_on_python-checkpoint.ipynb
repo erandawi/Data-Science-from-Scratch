{
 "cells": [
  {
   "cell_type": "markdown",
   "id": "2c111a51",
   "metadata": {},
   "source": [
    "### Functions"
   ]
  },
  {
   "cell_type": "code",
   "execution_count": 26,
   "id": "fd85a077",
   "metadata": {},
   "outputs": [],
   "source": [
    "def double(x):\n",
    "    \"\"\"\n",
    "    This is where you put an optional docstring that explains what the\n",
    "    function does. For example, this function multiplies its input by 2\n",
    "    \"\"\"\n",
    "    return x * 2"
   ]
  },
  {
   "cell_type": "code",
   "execution_count": 27,
   "id": "bd7daf00",
   "metadata": {},
   "outputs": [],
   "source": [
    "def apply_to_one(f):\n",
    "    \n",
    "    \"\"\"Calls the function f with 1 as its argument\"\"\"\n",
    "    return f(1)"
   ]
  },
  {
   "cell_type": "code",
   "execution_count": 28,
   "id": "705b17a8",
   "metadata": {},
   "outputs": [
    {
     "name": "stdout",
     "output_type": "stream",
     "text": [
      "2\n"
     ]
    }
   ],
   "source": [
    "y =double(1)\n",
    "print(y)"
   ]
  },
  {
   "cell_type": "code",
   "execution_count": 29,
   "id": "3baafcb7",
   "metadata": {},
   "outputs": [
    {
     "name": "stdout",
     "output_type": "stream",
     "text": [
      "2\n"
     ]
    }
   ],
   "source": [
    "my_double = double\n",
    "x = apply_to_one(my_double) # equals 2\n",
    "print(x)"
   ]
  },
  {
   "cell_type": "code",
   "execution_count": 30,
   "id": "13ef1e28",
   "metadata": {},
   "outputs": [
    {
     "data": {
      "text/plain": [
       "5"
      ]
     },
     "execution_count": 30,
     "metadata": {},
     "output_type": "execute_result"
    }
   ],
   "source": [
    "# lambda functions\n",
    "y = apply_to_one(lambda x: x + 4) # equals 5\n",
    "y"
   ]
  },
  {
   "cell_type": "code",
   "execution_count": 31,
   "id": "325468ed",
   "metadata": {},
   "outputs": [],
   "source": [
    "another_double = lambda x : 2 * x # dont do this\n",
    "\n",
    "def another_double(x):\n",
    "    \"\"\"Do this instead\"\"\"\n",
    "    return 2 * x"
   ]
  },
  {
   "cell_type": "code",
   "execution_count": 32,
   "id": "e0d41dd1",
   "metadata": {},
   "outputs": [],
   "source": [
    "def my_print(message = ' my default message'):\n",
    "    print(message)"
   ]
  },
  {
   "cell_type": "code",
   "execution_count": 33,
   "id": "b656da17",
   "metadata": {},
   "outputs": [
    {
     "name": "stdout",
     "output_type": "stream",
     "text": [
      "hello\n"
     ]
    }
   ],
   "source": [
    "my_print('hello') # print hello"
   ]
  },
  {
   "cell_type": "code",
   "execution_count": 34,
   "id": "39cb92b3",
   "metadata": {},
   "outputs": [
    {
     "name": "stdout",
     "output_type": "stream",
     "text": [
      " my default message\n"
     ]
    }
   ],
   "source": [
    "my_print() # prints 'my default message'"
   ]
  },
  {
   "cell_type": "code",
   "execution_count": 35,
   "id": "f0780ffa",
   "metadata": {},
   "outputs": [],
   "source": [
    "def full_name(first = \"what's-his-name\", last = \"Something\"):\n",
    "    return first + \" \" + last"
   ]
  },
  {
   "cell_type": "code",
   "execution_count": 36,
   "id": "3f573773",
   "metadata": {},
   "outputs": [
    {
     "data": {
      "text/plain": [
       "'Joel Grus'"
      ]
     },
     "execution_count": 36,
     "metadata": {},
     "output_type": "execute_result"
    }
   ],
   "source": [
    "full_name(\"Joel\", \"Grus\") # 'Joel Grus'"
   ]
  },
  {
   "cell_type": "code",
   "execution_count": 37,
   "id": "83f09c73",
   "metadata": {},
   "outputs": [
    {
     "data": {
      "text/plain": [
       "'joel Something'"
      ]
     },
     "execution_count": 37,
     "metadata": {},
     "output_type": "execute_result"
    }
   ],
   "source": [
    "full_name(\"joel\") # 'Joel Something'"
   ]
  },
  {
   "cell_type": "code",
   "execution_count": 38,
   "id": "ec01db51",
   "metadata": {},
   "outputs": [
    {
     "data": {
      "text/plain": [
       "\"what's-his-name Grus\""
      ]
     },
     "execution_count": 38,
     "metadata": {},
     "output_type": "execute_result"
    }
   ],
   "source": [
    "full_name(last = 'Grus') # 'What's-his-name Grus'"
   ]
  },
  {
   "cell_type": "markdown",
   "id": "7bbcf0a0",
   "metadata": {},
   "source": [
    "### Strings"
   ]
  },
  {
   "cell_type": "code",
   "execution_count": 39,
   "id": "ffe361ce",
   "metadata": {},
   "outputs": [],
   "source": [
    "single_quoted_string = 'data science'\n",
    "double_quoted_string = \"data science\""
   ]
  },
  {
   "cell_type": "code",
   "execution_count": 40,
   "id": "15340d27",
   "metadata": {},
   "outputs": [
    {
     "data": {
      "text/plain": [
       "'\\t'"
      ]
     },
     "execution_count": 40,
     "metadata": {},
     "output_type": "execute_result"
    }
   ],
   "source": [
    "tab_string = \"\\t\" # represents the tab characters\n",
    "tab_string"
   ]
  },
  {
   "cell_type": "code",
   "execution_count": 41,
   "id": "cdcb3d03",
   "metadata": {},
   "outputs": [
    {
     "data": {
      "text/plain": [
       "1"
      ]
     },
     "execution_count": 41,
     "metadata": {},
     "output_type": "execute_result"
    }
   ],
   "source": [
    "len(tab_string) # is 1"
   ]
  },
  {
   "cell_type": "code",
   "execution_count": 42,
   "id": "bda1948a",
   "metadata": {},
   "outputs": [
    {
     "data": {
      "text/plain": [
       "'\\\\t'"
      ]
     },
     "execution_count": 42,
     "metadata": {},
     "output_type": "execute_result"
    }
   ],
   "source": [
    "not_tab_string = r\"\\t\" # represents the characters '\\' and 't'\n",
    "not_tab_string"
   ]
  },
  {
   "cell_type": "code",
   "execution_count": 43,
   "id": "49a53ef6",
   "metadata": {},
   "outputs": [
    {
     "data": {
      "text/plain": [
       "2"
      ]
     },
     "execution_count": 43,
     "metadata": {},
     "output_type": "execute_result"
    }
   ],
   "source": [
    "len(not_tab_string) # is 2"
   ]
  },
  {
   "cell_type": "code",
   "execution_count": 44,
   "id": "aa0499fd",
   "metadata": {},
   "outputs": [
    {
     "data": {
      "text/plain": [
       "'This is the first line.\\n    and this is the second line\\n    and this is the third line'"
      ]
     },
     "execution_count": 44,
     "metadata": {},
     "output_type": "execute_result"
    }
   ],
   "source": [
    "multi_line_string = \"\"\"This is the first line.\n",
    "    and this is the second line\n",
    "    and this is the third line\"\"\"\n",
    "multi_line_string"
   ]
  },
  {
   "cell_type": "code",
   "execution_count": 45,
   "id": "3ce56671",
   "metadata": {},
   "outputs": [],
   "source": [
    "first_name = \"joel\"\n",
    "last_name = 'Grus'"
   ]
  },
  {
   "cell_type": "code",
   "execution_count": 46,
   "id": "fb630096",
   "metadata": {},
   "outputs": [
    {
     "data": {
      "text/plain": [
       "'joel Grus'"
      ]
     },
     "execution_count": 46,
     "metadata": {},
     "output_type": "execute_result"
    }
   ],
   "source": [
    "full_name1 = first_name + \" \" + last_name # string addition\n",
    "full_name1"
   ]
  },
  {
   "cell_type": "code",
   "execution_count": 47,
   "id": "57236861",
   "metadata": {},
   "outputs": [
    {
     "data": {
      "text/plain": [
       "'joel Grus'"
      ]
     },
     "execution_count": 47,
     "metadata": {},
     "output_type": "execute_result"
    }
   ],
   "source": [
    "full_name2 = \"{0} {1}\".format(first_name, last_name) # string.format\n",
    "full_name2"
   ]
  },
  {
   "cell_type": "code",
   "execution_count": 48,
   "id": "cf8f9f33",
   "metadata": {},
   "outputs": [
    {
     "data": {
      "text/plain": [
       "'joel Grus'"
      ]
     },
     "execution_count": 48,
     "metadata": {},
     "output_type": "execute_result"
    }
   ],
   "source": [
    "full_name3 = f\"{first_name} {last_name}\"\n",
    "full_name3"
   ]
  },
  {
   "cell_type": "markdown",
   "id": "bea842da",
   "metadata": {},
   "source": [
    "### Exceptions"
   ]
  },
  {
   "cell_type": "code",
   "execution_count": 49,
   "id": "e63adfc4",
   "metadata": {},
   "outputs": [
    {
     "name": "stdout",
     "output_type": "stream",
     "text": [
      "cannot divide by zero\n"
     ]
    }
   ],
   "source": [
    "try:\n",
    "    print(0/0)\n",
    "except ZeroDivisionError:\n",
    "    print(\"cannot divide by zero\")"
   ]
  },
  {
   "cell_type": "markdown",
   "id": "e356cdc3",
   "metadata": {},
   "source": [
    "### Lists"
   ]
  },
  {
   "cell_type": "code",
   "execution_count": 50,
   "id": "5e16c855",
   "metadata": {},
   "outputs": [
    {
     "data": {
      "text/plain": [
       "[1, 2, 3]"
      ]
     },
     "execution_count": 50,
     "metadata": {},
     "output_type": "execute_result"
    }
   ],
   "source": [
    "integer_list = [1, 2, 3]\n",
    "integer_list"
   ]
  },
  {
   "cell_type": "code",
   "execution_count": 51,
   "id": "40c54be4",
   "metadata": {},
   "outputs": [
    {
     "data": {
      "text/plain": [
       "['string', 0.1, True]"
      ]
     },
     "execution_count": 51,
     "metadata": {},
     "output_type": "execute_result"
    }
   ],
   "source": [
    "heterogeneous_list = [\"string\", 0.1, True]\n",
    "heterogeneous_list"
   ]
  },
  {
   "cell_type": "code",
   "execution_count": 52,
   "id": "7629f85f",
   "metadata": {},
   "outputs": [
    {
     "data": {
      "text/plain": [
       "[[1, 2, 3], ['string', 0.1, True], []]"
      ]
     },
     "execution_count": 52,
     "metadata": {},
     "output_type": "execute_result"
    }
   ],
   "source": [
    "list_of_lists = [integer_list, heterogeneous_list, []]\n",
    "list_of_lists"
   ]
  },
  {
   "cell_type": "code",
   "execution_count": 53,
   "id": "46feebd9",
   "metadata": {},
   "outputs": [
    {
     "data": {
      "text/plain": [
       "3"
      ]
     },
     "execution_count": 53,
     "metadata": {},
     "output_type": "execute_result"
    }
   ],
   "source": [
    "list_length = len(integer_list) # equals 3\n",
    "list_length"
   ]
  },
  {
   "cell_type": "code",
   "execution_count": 54,
   "id": "613fa0c0",
   "metadata": {},
   "outputs": [
    {
     "data": {
      "text/plain": [
       "6"
      ]
     },
     "execution_count": 54,
     "metadata": {},
     "output_type": "execute_result"
    }
   ],
   "source": [
    "list_sum = sum(integer_list) # equals 6\n",
    "list_sum"
   ]
  },
  {
   "cell_type": "code",
   "execution_count": 55,
   "id": "98f74043",
   "metadata": {},
   "outputs": [
    {
     "data": {
      "text/plain": [
       "[0, 1, 2, 3, 4, 5, 6, 7, 8, 9]"
      ]
     },
     "execution_count": 55,
     "metadata": {},
     "output_type": "execute_result"
    }
   ],
   "source": [
    "x = [0, 1, 2, 3, 4, 5, 6, 7, 8, 9]\n",
    "x"
   ]
  },
  {
   "cell_type": "code",
   "execution_count": 56,
   "id": "ebebb120",
   "metadata": {},
   "outputs": [
    {
     "data": {
      "text/plain": [
       "[0]"
      ]
     },
     "execution_count": 56,
     "metadata": {},
     "output_type": "execute_result"
    }
   ],
   "source": [
    "zero = [0] # equals 0, lists are 0-indexed\n",
    "zero"
   ]
  },
  {
   "cell_type": "code",
   "execution_count": 57,
   "id": "9e3e556d",
   "metadata": {},
   "outputs": [
    {
     "data": {
      "text/plain": [
       "1"
      ]
     },
     "execution_count": 57,
     "metadata": {},
     "output_type": "execute_result"
    }
   ],
   "source": [
    "one = x[1]\n",
    "one    # equals 1 "
   ]
  },
  {
   "cell_type": "code",
   "execution_count": 58,
   "id": "cef6c51e",
   "metadata": {},
   "outputs": [
    {
     "data": {
      "text/plain": [
       "9"
      ]
     },
     "execution_count": 58,
     "metadata": {},
     "output_type": "execute_result"
    }
   ],
   "source": [
    "nine = x[-1] # equals 9, 'Pythonic ' for the last element\n",
    "nine"
   ]
  },
  {
   "cell_type": "code",
   "execution_count": 59,
   "id": "edb36a72",
   "metadata": {},
   "outputs": [
    {
     "data": {
      "text/plain": [
       "8"
      ]
     },
     "execution_count": 59,
     "metadata": {},
     "output_type": "execute_result"
    }
   ],
   "source": [
    "eight = x[-2] # equals 8, \"pythonic\" for next-to-last element\n",
    "eight"
   ]
  },
  {
   "cell_type": "code",
   "execution_count": 60,
   "id": "eb46ff63",
   "metadata": {},
   "outputs": [
    {
     "data": {
      "text/plain": [
       "-1"
      ]
     },
     "execution_count": 60,
     "metadata": {},
     "output_type": "execute_result"
    }
   ],
   "source": [
    "x[0] = -1   # now x is [-1, 1, 2, 3, 4, 5, 6, 7, 8, 9]\n",
    "x[0]"
   ]
  },
  {
   "cell_type": "code",
   "execution_count": 64,
   "id": "1d9b8ce3",
   "metadata": {},
   "outputs": [
    {
     "data": {
      "text/plain": [
       "[-1, 1, 2]"
      ]
     },
     "execution_count": 64,
     "metadata": {},
     "output_type": "execute_result"
    }
   ],
   "source": [
    "first_three = x[:3] # [-1, 1, 2]\n",
    "first_three"
   ]
  },
  {
   "cell_type": "code",
   "execution_count": 65,
   "id": "61fb240f",
   "metadata": {},
   "outputs": [
    {
     "data": {
      "text/plain": [
       "[3, 4, 5, 6, 7, 8, 9]"
      ]
     },
     "execution_count": 65,
     "metadata": {},
     "output_type": "execute_result"
    }
   ],
   "source": [
    "three_to_end = x[3:] # [3, 4, ......., 9]\n",
    "three_to_end"
   ]
  },
  {
   "cell_type": "code",
   "execution_count": 66,
   "id": "70234c78",
   "metadata": {},
   "outputs": [
    {
     "data": {
      "text/plain": [
       "[1, 2, 3, 4]"
      ]
     },
     "execution_count": 66,
     "metadata": {},
     "output_type": "execute_result"
    }
   ],
   "source": [
    "one_to_four = x[1:5] # [1, 2, 3, 4]\n",
    "one_to_four"
   ]
  },
  {
   "cell_type": "code",
   "execution_count": 67,
   "id": "5f9fd562",
   "metadata": {},
   "outputs": [
    {
     "data": {
      "text/plain": [
       "[7, 8, 9]"
      ]
     },
     "execution_count": 67,
     "metadata": {},
     "output_type": "execute_result"
    }
   ],
   "source": [
    "last_three = x[-3:] # [7, 8, 9]\n",
    "last_three"
   ]
  },
  {
   "cell_type": "code",
   "execution_count": 68,
   "id": "358d2d99",
   "metadata": {},
   "outputs": [
    {
     "data": {
      "text/plain": [
       "[1, 2, 3, 4, 5, 6, 7, 8]"
      ]
     },
     "execution_count": 68,
     "metadata": {},
     "output_type": "execute_result"
    }
   ],
   "source": [
    "without_first_and_last = x[1:-1] # [1, 2, ..., 8]\n",
    "without_first_and_last"
   ]
  },
  {
   "cell_type": "code",
   "execution_count": 69,
   "id": "c33cd256",
   "metadata": {},
   "outputs": [
    {
     "data": {
      "text/plain": [
       "[-1, 1, 2, 3, 4, 5, 6, 7, 8, 9]"
      ]
     },
     "execution_count": 69,
     "metadata": {},
     "output_type": "execute_result"
    }
   ],
   "source": [
    "copy_of_x = x[:] # [-1, 1, 2, ..., 9]\n",
    "copy_of_x"
   ]
  },
  {
   "cell_type": "code",
   "execution_count": 70,
   "id": "82ee7b6f",
   "metadata": {},
   "outputs": [
    {
     "data": {
      "text/plain": [
       "[-1, 3, 6, 9]"
      ]
     },
     "execution_count": 70,
     "metadata": {},
     "output_type": "execute_result"
    }
   ],
   "source": [
    "every_thrid = x[::3] # [-1, 3, 6, 9]\n",
    "every_thrid"
   ]
  },
  {
   "cell_type": "code",
   "execution_count": 72,
   "id": "b9a578e1",
   "metadata": {},
   "outputs": [
    {
     "data": {
      "text/plain": [
       "[5, 4, 3]"
      ]
     },
     "execution_count": 72,
     "metadata": {},
     "output_type": "execute_result"
    }
   ],
   "source": [
    "five_to_three = x[5:2:-1] # [5, 4,  3]\n",
    "five_to_three"
   ]
  },
  {
   "cell_type": "code",
   "execution_count": 73,
   "id": "79f328d6",
   "metadata": {},
   "outputs": [
    {
     "data": {
      "text/plain": [
       "True"
      ]
     },
     "execution_count": 73,
     "metadata": {},
     "output_type": "execute_result"
    }
   ],
   "source": [
    "# python has in operator to check the list membership\n",
    "\n",
    "1 in [1, 2, 3] # True"
   ]
  },
  {
   "cell_type": "code",
   "execution_count": 74,
   "id": "6a2da8bf",
   "metadata": {},
   "outputs": [
    {
     "data": {
      "text/plain": [
       "False"
      ]
     },
     "execution_count": 74,
     "metadata": {},
     "output_type": "execute_result"
    }
   ],
   "source": [
    "0 in [1, 2, 3] # False"
   ]
  },
  {
   "cell_type": "code",
   "execution_count": 77,
   "id": "c5cb8d3c",
   "metadata": {},
   "outputs": [
    {
     "data": {
      "text/plain": [
       "[1, 2, 3]"
      ]
     },
     "execution_count": 77,
     "metadata": {},
     "output_type": "execute_result"
    }
   ],
   "source": [
    "# we can use extend to add items from  another collection\n",
    "x = [1, 2, 3]\n",
    "x"
   ]
  },
  {
   "cell_type": "code",
   "execution_count": 78,
   "id": "7edfe547",
   "metadata": {},
   "outputs": [
    {
     "data": {
      "text/plain": [
       "[1, 2, 3, 4, 5, 6]"
      ]
     },
     "execution_count": 78,
     "metadata": {},
     "output_type": "execute_result"
    }
   ],
   "source": [
    "x.extend([4, 5, 6]) # x is now [1, 2, 3, 4, 5, 6]\n",
    "x"
   ]
  },
  {
   "cell_type": "code",
   "execution_count": 80,
   "id": "5f22e38e",
   "metadata": {},
   "outputs": [
    {
     "data": {
      "text/plain": [
       "[1, 2, 3, 4, 5, 6]"
      ]
     },
     "execution_count": 80,
     "metadata": {},
     "output_type": "execute_result"
    }
   ],
   "source": [
    "# instead modfiying we can use list addition\n",
    "x = [1, 2, 3]\n",
    "y = x + [4, 5, 6]\n",
    "y"
   ]
  },
  {
   "cell_type": "code",
   "execution_count": 81,
   "id": "823d7eab",
   "metadata": {},
   "outputs": [
    {
     "data": {
      "text/plain": [
       "[1, 2, 3, 0]"
      ]
     },
     "execution_count": 81,
     "metadata": {},
     "output_type": "execute_result"
    }
   ],
   "source": [
    "# most frequently we append the list one item at a time\n",
    "\n",
    "x = [1, 2, 3]\n",
    "x.append(0) # x is now [1, 2, 3, 0]\n",
    "x"
   ]
  },
  {
   "cell_type": "code",
   "execution_count": 83,
   "id": "a1acd316",
   "metadata": {},
   "outputs": [
    {
     "data": {
      "text/plain": [
       "0"
      ]
     },
     "execution_count": 83,
     "metadata": {},
     "output_type": "execute_result"
    }
   ],
   "source": [
    "y = x[-1]  #equals 0\n",
    "y"
   ]
  },
  {
   "cell_type": "code",
   "execution_count": 85,
   "id": "fa1ec8e9",
   "metadata": {},
   "outputs": [
    {
     "data": {
      "text/plain": [
       "4"
      ]
     },
     "execution_count": 85,
     "metadata": {},
     "output_type": "execute_result"
    }
   ],
   "source": [
    "z = len(x) # equals 4\n",
    "z"
   ]
  },
  {
   "cell_type": "code",
   "execution_count": 87,
   "id": "fb1452d9",
   "metadata": {},
   "outputs": [
    {
     "data": {
      "text/plain": [
       "1"
      ]
     },
     "execution_count": 87,
     "metadata": {},
     "output_type": "execute_result"
    }
   ],
   "source": [
    "# unpacked list\n",
    "x, y = [1, 2]  # now x is 1, y is 2\n",
    "x"
   ]
  },
  {
   "cell_type": "code",
   "execution_count": 88,
   "id": "18cad5d0",
   "metadata": {},
   "outputs": [
    {
     "data": {
      "text/plain": [
       "2"
      ]
     },
     "execution_count": 88,
     "metadata": {},
     "output_type": "execute_result"
    }
   ],
   "source": [
    "y"
   ]
  },
  {
   "cell_type": "code",
   "execution_count": 89,
   "id": "3b805c3d",
   "metadata": {},
   "outputs": [
    {
     "data": {
      "text/plain": [
       "2"
      ]
     },
     "execution_count": 89,
     "metadata": {},
     "output_type": "execute_result"
    }
   ],
   "source": [
    "# common idiom is to use an underscore for a value throw away\n",
    "_, y = [1, 2] # now y == 2, didn't care about the first element\n",
    "y"
   ]
  },
  {
   "cell_type": "code",
   "execution_count": 90,
   "id": "38d571e3",
   "metadata": {},
   "outputs": [
    {
     "data": {
      "text/plain": [
       "1"
      ]
     },
     "execution_count": 90,
     "metadata": {},
     "output_type": "execute_result"
    }
   ],
   "source": [
    "_"
   ]
  },
  {
   "cell_type": "markdown",
   "id": "23a6a95b",
   "metadata": {},
   "source": [
    "### Tuples"
   ]
  },
  {
   "cell_type": "code",
   "execution_count": 91,
   "id": "1f3c87c5",
   "metadata": {},
   "outputs": [
    {
     "data": {
      "text/plain": [
       "[1, 2]"
      ]
     },
     "execution_count": 91,
     "metadata": {},
     "output_type": "execute_result"
    }
   ],
   "source": [
    "my_list = [1, 2]\n",
    "my_list"
   ]
  },
  {
   "cell_type": "code",
   "execution_count": 92,
   "id": "8ffe65b7",
   "metadata": {},
   "outputs": [
    {
     "data": {
      "text/plain": [
       "(1, 2)"
      ]
     },
     "execution_count": 92,
     "metadata": {},
     "output_type": "execute_result"
    }
   ],
   "source": [
    "my_tuple = (1, 2)\n",
    "my_tuple"
   ]
  },
  {
   "cell_type": "code",
   "execution_count": 93,
   "id": "2412f4d9",
   "metadata": {},
   "outputs": [
    {
     "data": {
      "text/plain": [
       "(3, 4)"
      ]
     },
     "execution_count": 93,
     "metadata": {},
     "output_type": "execute_result"
    }
   ],
   "source": [
    "other_tuple = 3, 4\n",
    "other_tuple"
   ]
  },
  {
   "cell_type": "code",
   "execution_count": 95,
   "id": "4774092b",
   "metadata": {},
   "outputs": [
    {
     "data": {
      "text/plain": [
       "[1, 3]"
      ]
     },
     "execution_count": 95,
     "metadata": {},
     "output_type": "execute_result"
    }
   ],
   "source": [
    "my_list[1] = 3 # my_list is now [1, 3]\n",
    "my_list"
   ]
  },
  {
   "cell_type": "code",
   "execution_count": 96,
   "id": "0e5bad2b",
   "metadata": {},
   "outputs": [
    {
     "name": "stdout",
     "output_type": "stream",
     "text": [
      "Cannot modify a tuple\n"
     ]
    }
   ],
   "source": [
    "try:\n",
    "    my_tuple[1] = 3\n",
    "except TypeError:\n",
    "    print('Cannot modify a tuple')"
   ]
  },
  {
   "cell_type": "code",
   "execution_count": 97,
   "id": "580f0b1a",
   "metadata": {},
   "outputs": [],
   "source": [
    "# tuples are a convenient way to return multiple values from functions\n",
    "\n",
    "def sum_and_product (x, y):\n",
    "    return (x + y), (x * y)"
   ]
  },
  {
   "cell_type": "code",
   "execution_count": 99,
   "id": "119580c9",
   "metadata": {},
   "outputs": [
    {
     "data": {
      "text/plain": [
       "(5, 6)"
      ]
     },
     "execution_count": 99,
     "metadata": {},
     "output_type": "execute_result"
    }
   ],
   "source": [
    "sp = sum_and_product(2, 3)\n",
    "sp"
   ]
  },
  {
   "cell_type": "code",
   "execution_count": 100,
   "id": "bfc6c0f9",
   "metadata": {},
   "outputs": [
    {
     "data": {
      "text/plain": [
       "(15, 50)"
      ]
     },
     "execution_count": 100,
     "metadata": {},
     "output_type": "execute_result"
    }
   ],
   "source": [
    "s, p = sum_and_product(5, 10)\n",
    "s, p"
   ]
  },
  {
   "cell_type": "code",
   "execution_count": 101,
   "id": "1d7b9de8",
   "metadata": {},
   "outputs": [
    {
     "data": {
      "text/plain": [
       "(1, 2)"
      ]
     },
     "execution_count": 101,
     "metadata": {},
     "output_type": "execute_result"
    }
   ],
   "source": [
    "# Tuples (and lists) can also be used for multiple assignemnt\n",
    "\n",
    "x, y = 1, 2  # now x is 1, y is 2\n",
    "x, y"
   ]
  },
  {
   "cell_type": "code",
   "execution_count": 102,
   "id": "fa6dcb5d",
   "metadata": {},
   "outputs": [
    {
     "data": {
      "text/plain": [
       "(2, 1)"
      ]
     },
     "execution_count": 102,
     "metadata": {},
     "output_type": "execute_result"
    }
   ],
   "source": [
    "x, y = y, x # Pythonic way to swap variables; now x is 2, y is 1\n",
    "x, y"
   ]
  },
  {
   "cell_type": "markdown",
   "id": "ec645759",
   "metadata": {},
   "source": [
    "### Dictonaries"
   ]
  },
  {
   "cell_type": "code",
   "execution_count": 104,
   "id": "bf78f059",
   "metadata": {},
   "outputs": [
    {
     "data": {
      "text/plain": [
       "{}"
      ]
     },
     "execution_count": 104,
     "metadata": {},
     "output_type": "execute_result"
    }
   ],
   "source": [
    "empty_dict = {} # Pythonic\n",
    "empty_dict"
   ]
  },
  {
   "cell_type": "code",
   "execution_count": 106,
   "id": "8ad1f597",
   "metadata": {},
   "outputs": [
    {
     "data": {
      "text/plain": [
       "{}"
      ]
     },
     "execution_count": 106,
     "metadata": {},
     "output_type": "execute_result"
    }
   ],
   "source": [
    "empty_dict2 = dict() # less Pythonic\n",
    "empty_dict2"
   ]
  },
  {
   "cell_type": "code",
   "execution_count": 107,
   "id": "2df32424",
   "metadata": {},
   "outputs": [
    {
     "data": {
      "text/plain": [
       "{'Joel': 80, 'Tim': 95}"
      ]
     },
     "execution_count": 107,
     "metadata": {},
     "output_type": "execute_result"
    }
   ],
   "source": [
    "grades = {'Joel': 80, 'Tim': 95} # dictionary literal\n",
    "grades"
   ]
  },
  {
   "cell_type": "code",
   "execution_count": 108,
   "id": "a051facd",
   "metadata": {},
   "outputs": [
    {
     "data": {
      "text/plain": [
       "80"
      ]
     },
     "execution_count": 108,
     "metadata": {},
     "output_type": "execute_result"
    }
   ],
   "source": [
    "joels_grade = grades['Joel']\n",
    "joels_grade"
   ]
  },
  {
   "cell_type": "code",
   "execution_count": 109,
   "id": "d419a87b",
   "metadata": {},
   "outputs": [
    {
     "name": "stdout",
     "output_type": "stream",
     "text": [
      " no grade for Kate!\n"
     ]
    }
   ],
   "source": [
    "# We get KeyError if we ask for a key that's not in the dictionary\n",
    "\n",
    "try:\n",
    "    kates_grade = grades['Kate']\n",
    "except KeyError:\n",
    "    print(' no grade for Kate!')"
   ]
  },
  {
   "cell_type": "code",
   "execution_count": 111,
   "id": "458ce173",
   "metadata": {},
   "outputs": [
    {
     "data": {
      "text/plain": [
       "True"
      ]
     },
     "execution_count": 111,
     "metadata": {},
     "output_type": "execute_result"
    }
   ],
   "source": [
    "# we can check for the existence of a key using in\n",
    "\n",
    "joel_has_grade = 'Joel' in grades # True\n",
    "joel_has_grade"
   ]
  },
  {
   "cell_type": "code",
   "execution_count": 112,
   "id": "51107821",
   "metadata": {},
   "outputs": [
    {
     "data": {
      "text/plain": [
       "False"
      ]
     },
     "execution_count": 112,
     "metadata": {},
     "output_type": "execute_result"
    }
   ],
   "source": [
    "kate_has_grade = 'Kate' in grades # false\n",
    "kate_has_grade"
   ]
  },
  {
   "cell_type": "code",
   "execution_count": 113,
   "id": "c65292ce",
   "metadata": {},
   "outputs": [
    {
     "data": {
      "text/plain": [
       "{'Joel': 80, 'Tim': 99}"
      ]
     },
     "execution_count": 113,
     "metadata": {},
     "output_type": "execute_result"
    }
   ],
   "source": [
    "# Dictionay have a get method that returns a default value(instead of raising an exception)\n",
    "\n",
    "grades['Tim'] = 99 # replace the old value\n",
    "grades"
   ]
  },
  {
   "cell_type": "code",
   "execution_count": 114,
   "id": "f7b68f4e",
   "metadata": {},
   "outputs": [
    {
     "data": {
      "text/plain": [
       "{'Joel': 80, 'Tim': 99, 'Kate': 100}"
      ]
     },
     "execution_count": 114,
     "metadata": {},
     "output_type": "execute_result"
    }
   ],
   "source": [
    "grades['Kate'] = 100 # add a third entry\n",
    "grades"
   ]
  },
  {
   "cell_type": "code",
   "execution_count": 115,
   "id": "876c339d",
   "metadata": {},
   "outputs": [
    {
     "data": {
      "text/plain": [
       "3"
      ]
     },
     "execution_count": 115,
     "metadata": {},
     "output_type": "execute_result"
    }
   ],
   "source": [
    "num_students = len(grades)\n",
    "num_students"
   ]
  },
  {
   "cell_type": "code",
   "execution_count": 118,
   "id": "97ba1da8",
   "metadata": {},
   "outputs": [
    {
     "data": {
      "text/plain": [
       "{'user': 'joelgrus',\n",
       " 'text': 'Data Science is Awesome',\n",
       " 'retweet_count': 100,\n",
       " 'hashtags': ['data', 'sciecne', 'datascience', '#Awesome', '#yolo']}"
      ]
     },
     "execution_count": 118,
     "metadata": {},
     "output_type": "execute_result"
    }
   ],
   "source": [
    "# we can use dictionaries to represent structured data\n",
    "\n",
    "tweet = {\n",
    "            \"user\" : \"joelgrus\",\n",
    "            \"text\" : \"Data Science is Awesome\",\n",
    "            \"retweet_count\" : 100, \n",
    "            \"hashtags\" : [\"data\", \"sciecne\", \"datascience\", \"#Awesome\", \"#yolo\"]\n",
    "}\n",
    "\n",
    "tweet"
   ]
  },
  {
   "cell_type": "code",
   "execution_count": 120,
   "id": "df6a6c8c",
   "metadata": {},
   "outputs": [
    {
     "data": {
      "text/plain": [
       "dict_keys(['user', 'text', 'retweet_count', 'hashtags'])"
      ]
     },
     "execution_count": 120,
     "metadata": {},
     "output_type": "execute_result"
    }
   ],
   "source": [
    "tweet_keys = tweet.keys()\n",
    "tweet_keys"
   ]
  },
  {
   "cell_type": "code",
   "execution_count": 121,
   "id": "1f57be11",
   "metadata": {},
   "outputs": [
    {
     "data": {
      "text/plain": [
       "dict_values(['joelgrus', 'Data Science is Awesome', 100, ['data', 'sciecne', 'datascience', '#Awesome', '#yolo']])"
      ]
     },
     "execution_count": 121,
     "metadata": {},
     "output_type": "execute_result"
    }
   ],
   "source": [
    "tweet_values = tweet.values()\n",
    "tweet_values"
   ]
  },
  {
   "cell_type": "code",
   "execution_count": 130,
   "id": "f30cad20",
   "metadata": {},
   "outputs": [
    {
     "data": {
      "text/plain": [
       "dict_items([('user', 'joelgrus'), ('text', 'Data Science is Awesome'), ('retweet_count', 100), ('hashtags', ['data', 'sciecne', 'datascience', '#Awesome', '#yolo'])])"
      ]
     },
     "execution_count": 130,
     "metadata": {},
     "output_type": "execute_result"
    }
   ],
   "source": [
    "tweet_items = tweet.items() # Iterable for the (key, value) tuples\n",
    "tweet_items"
   ]
  },
  {
   "cell_type": "code",
   "execution_count": 127,
   "id": "4b2856f7",
   "metadata": {},
   "outputs": [
    {
     "data": {
      "text/plain": [
       "True"
      ]
     },
     "execution_count": 127,
     "metadata": {},
     "output_type": "execute_result"
    }
   ],
   "source": [
    "\"user\" in tweet_keys # True, but not Pythonic"
   ]
  },
  {
   "cell_type": "code",
   "execution_count": 128,
   "id": "f2b2df81",
   "metadata": {},
   "outputs": [
    {
     "data": {
      "text/plain": [
       "True"
      ]
     },
     "execution_count": 128,
     "metadata": {},
     "output_type": "execute_result"
    }
   ],
   "source": [
    "\"user\" in tweet # Pythonic way of chekcing for keys"
   ]
  },
  {
   "cell_type": "code",
   "execution_count": 129,
   "id": "d19a5153",
   "metadata": {},
   "outputs": [
    {
     "data": {
      "text/plain": [
       "True"
      ]
     },
     "execution_count": 129,
     "metadata": {},
     "output_type": "execute_result"
    }
   ],
   "source": [
    "\"joelgrus\" in tweet_values # True (slow but the only way to check)"
   ]
  },
  {
   "cell_type": "markdown",
   "id": "6213654c",
   "metadata": {},
   "source": [
    "### defauldict"
   ]
  },
  {
   "cell_type": "code",
   "execution_count": 135,
   "id": "0386b1c5",
   "metadata": {},
   "outputs": [],
   "source": [
    "# Imagine that you’re trying to count the words in a document. An obvious approach is to create a dictionary in which \n",
    "# the keys are words and the values are counts. As you check each word, you can increment its count if it’s already in \n",
    "# the dictionary and add it to the dictionary if it’s not:\n",
    "\n",
    "\n",
    "# # word_counts = {}\n",
    "# # for word in document:\n",
    "# #     if word in word_counts:\n",
    "# #         word_counts[word] += 1\n",
    "# #     else:\n",
    "# #         word_counts[word] = 1"
   ]
  },
  {
   "cell_type": "code",
   "execution_count": 136,
   "id": "3876e8d4",
   "metadata": {},
   "outputs": [],
   "source": [
    "# You could also use the “forgiveness is better than permission” approach and just handle the exception from trying \n",
    "# to look up a missing key:\n",
    "    \n",
    "# word_counts = {}\n",
    "# for word in document:\n",
    "# try:\n",
    "# word_counts[word] += 1\n",
    "# except KeyError:\n",
    "# word_counts[word] = 1"
   ]
  },
  {
   "cell_type": "code",
   "execution_count": 137,
   "id": "7d069865",
   "metadata": {},
   "outputs": [],
   "source": [
    "# A third approach is to use get, which behaves gracefully for missing keys:\n",
    "    \n",
    "# word_counts = {}\n",
    "# for word in document:\n",
    "# previous_count = word_counts.get(word, 0)\n",
    "# word_counts[word] = previous_count + 1"
   ]
  },
  {
   "cell_type": "markdown",
   "id": "965280ee",
   "metadata": {},
   "source": [
    "**A defaultdict is like a regular dictionary, except that when you try\n",
    "to look up a key it doesn’t contain, it first adds a value for it using a zero-\n",
    "argument function you provided when you created it. In order to use\n",
    "defaultdicts, you have to import them from collections:**"
   ]
  },
  {
   "cell_type": "code",
   "execution_count": 139,
   "id": "bf137b0c",
   "metadata": {},
   "outputs": [],
   "source": [
    "# from collections import defaultdict\n",
    "\n",
    "# word_counds = defaultdict(int) # int() produces 0\n",
    "# for word in document:\n",
    "#     word_counts[word] += 1"
   ]
  },
  {
   "cell_type": "code",
   "execution_count": 140,
   "id": "2135e0d3",
   "metadata": {},
   "outputs": [],
   "source": [
    "# They can also be useful with list or dict, or even your own functions:\n",
    "\n",
    "# dd_list = defaultdict(list) # list() produces an empty list\n",
    "\n",
    "# dd_list[2].append(1) # now dd_list contains {2: [1]}\n",
    "\n",
    "# dd_dict = defaultdict(dict) # dict() produces an empty dict\n",
    "\n",
    "# dd_dict[\"Joel\"][\"City\"] = \"Seattle\" # {\"Joel\" : {\"City\": Seattle\"}}\n",
    "\n",
    "# dd_pair = defaultdict(lambda: [0, 0])\n",
    "\n",
    "# # dd_pair[2][1] = 1 # now dd_pair contains {2: [0, 1]}"
   ]
  },
  {
   "cell_type": "markdown",
   "id": "511fc4db",
   "metadata": {},
   "source": [
    "### Counters"
   ]
  },
  {
   "cell_type": "markdown",
   "id": "69cd78dd",
   "metadata": {},
   "source": [
    "**A Counter turns a sequence of values into a defaultdict(int)-like object\n",
    "mapping keys to counts:**"
   ]
  },
  {
   "cell_type": "code",
   "execution_count": 142,
   "id": "206b7cab",
   "metadata": {},
   "outputs": [
    {
     "data": {
      "text/plain": [
       "Counter({0: 2, 1: 1, 2: 1})"
      ]
     },
     "execution_count": 142,
     "metadata": {},
     "output_type": "execute_result"
    }
   ],
   "source": [
    "from collections import Counter\n",
    "\n",
    "c = Counter([0, 1, 2, 0]) # c is (basically) {0: 2, 1: 1, 2: 1}\n",
    "c"
   ]
  },
  {
   "cell_type": "code",
   "execution_count": 145,
   "id": "3e73c286",
   "metadata": {},
   "outputs": [],
   "source": [
    "# # This gives us a very simple way to solve our word_counts problem:\n",
    "    \n",
    "# # recall, document is a list of words\n",
    "# word_counts = Counter(document)"
   ]
  },
  {
   "cell_type": "code",
   "execution_count": 148,
   "id": "37592ff2",
   "metadata": {},
   "outputs": [],
   "source": [
    "# A Counter instance has a most_common method that is frequently useful:\n",
    "    \n",
    "# print the 10 most common words and their counts\n",
    "# for word, count in word_counts.most_common(10):\n",
    "#      print(word, count)"
   ]
  },
  {
   "cell_type": "markdown",
   "id": "1aad69d2",
   "metadata": {},
   "source": [
    "### Sets"
   ]
  },
  {
   "cell_type": "code",
   "execution_count": null,
   "id": "ae643f7c",
   "metadata": {},
   "outputs": [],
   "source": [
    "# Another useful data structure is set, which represents a collection of distinct\n",
    "# elements. You can define a set by listing its elements between curly braces\n",
    "\n",
    "primes_below_10 = {2, 3, 5, 7}"
   ]
  }
 ],
 "metadata": {
  "kernelspec": {
   "display_name": "dsfs",
   "language": "python",
   "name": "dsfs"
  },
  "language_info": {
   "codemirror_mode": {
    "name": "ipython",
    "version": 3
   },
   "file_extension": ".py",
   "mimetype": "text/x-python",
   "name": "python",
   "nbconvert_exporter": "python",
   "pygments_lexer": "ipython3",
   "version": "3.11.9"
  }
 },
 "nbformat": 4,
 "nbformat_minor": 5
}
