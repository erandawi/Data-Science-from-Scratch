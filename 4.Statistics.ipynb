{
 "cells": [
  {
   "cell_type": "markdown",
   "id": "0d374089",
   "metadata": {},
   "source": [
    "## Describing a Single Set of Data"
   ]
  },
  {
   "cell_type": "code",
   "execution_count": 1,
   "id": "934f488a",
   "metadata": {},
   "outputs": [],
   "source": [
    "num_friends = [100.0,49,41,40,25,21,21,19,19,18,18,16,15,15,15,15,14,14,13,13,13,13,12,12,11,10,10,10,10,10,10,10,10,10,10,10,10,10,10,10,9,9,9,9,9,9,9,9,9,9,9,9,9,9,9,9,9,9,8,8,8,8,8,8,8,8,8,8,8,8,8,7,7,7,7,7,7,7,7,7,7,7,7,7,7,7,6,6,6,6,6,6,6,6,6,6,6,6,6,6,6,6,6,6,6,6,6,6,5,5,5,5,5,5,5,5,5,5,5,5,5,5,5,5,5,4,4,4,4,4,4,4,4,4,4,4,4,4,4,4,4,4,4,4,4,3,3,3,3,3,3,3,3,3,3,3,3,3,3,3,3,3,3,3,3,2,2,2,2,2,2,2,2,2,2,2,2,2,2,2,2,2,1,1,1,1,1,1,1,1,1,1,1,1,1,1,1,1,1,1,1,1,1,1]"
   ]
  },
  {
   "cell_type": "markdown",
   "id": "483801df",
   "metadata": {},
   "source": [
    "we can use **Histogram**"
   ]
  },
  {
   "cell_type": "code",
   "execution_count": 2,
   "id": "e2cb4fef",
   "metadata": {},
   "outputs": [],
   "source": [
    "from collections import Counter\n",
    "import matplotlib.pyplot as plt"
   ]
  },
  {
   "cell_type": "code",
   "execution_count": 3,
   "id": "3f79bba6",
   "metadata": {},
   "outputs": [
    {
     "data": {
      "image/png": "[encoded data removed]",
      "text/plain": [
       "<Figure size 640x480 with 1 Axes>"
      ]
     },
     "metadata": {},
     "output_type": "display_data"
    }
   ],
   "source": [
    "friend_counts = Counter(num_friends)\n",
    "xs = range(101) # largest value is 100\n",
    "ys = [friend_counts[x] for x in xs] # height is just # of freinds\n",
    "plt.bar(xs, ys)\n",
    "plt.axis([0, 101, 0, 25])\n",
    "plt.title('Histogram of Friend Counts')\n",
    "plt.xlabel(\"# of friends\")\n",
    "plt.ylabel('# of people')\n",
    "plt.show()"
   ]
  },
  {
   "cell_type": "markdown",
   "id": "ebefc081",
   "metadata": {},
   "source": [
    "**Number of Data Points**"
   ]
  },
  {
   "cell_type": "code",
   "execution_count": 4,
   "id": "e396a99f",
   "metadata": {},
   "outputs": [
    {
     "data": {
      "text/plain": [
       "204"
      ]
     },
     "execution_count": 4,
     "metadata": {},
     "output_type": "execute_result"
    }
   ],
   "source": [
    "num_points = len(num_friends)\n",
    "num_points"
   ]
  },
  {
   "cell_type": "markdown",
   "id": "25090d60",
   "metadata": {},
   "source": [
    "**Max and Min Values**"
   ]
  },
  {
   "cell_type": "code",
   "execution_count": 5,
   "id": "8805f317",
   "metadata": {},
   "outputs": [
    {
     "data": {
      "text/plain": [
       "100.0"
      ]
     },
     "execution_count": 5,
     "metadata": {},
     "output_type": "execute_result"
    }
   ],
   "source": [
    "largest_value = max(num_friends)\n",
    "largest_value"
   ]
  },
  {
   "cell_type": "code",
   "execution_count": 6,
   "id": "2df7e4f7",
   "metadata": {},
   "outputs": [
    {
     "data": {
      "text/plain": [
       "1"
      ]
     },
     "execution_count": 6,
     "metadata": {},
     "output_type": "execute_result"
    }
   ],
   "source": [
    "smallest_value = min(num_friends)\n",
    "smallest_value"
   ]
  },
  {
   "cell_type": "markdown",
   "id": "ba5f7fe9",
   "metadata": {},
   "source": [
    "**Values of Specific positions**"
   ]
  },
  {
   "cell_type": "code",
   "execution_count": 7,
   "id": "fd951923",
   "metadata": {},
   "outputs": [
    {
     "data": {
      "text/plain": [
       "1"
      ]
     },
     "execution_count": 7,
     "metadata": {},
     "output_type": "execute_result"
    }
   ],
   "source": [
    "sorted_values = sorted(num_friends)\n",
    "smallest_value = sorted_values[0]\n",
    "smallest_value"
   ]
  },
  {
   "cell_type": "code",
   "execution_count": 8,
   "id": "439343d8",
   "metadata": {},
   "outputs": [
    {
     "data": {
      "text/plain": [
       "1"
      ]
     },
     "execution_count": 8,
     "metadata": {},
     "output_type": "execute_result"
    }
   ],
   "source": [
    "second_smallest_value = sorted_values[1]\n",
    "second_smallest_value"
   ]
  },
  {
   "cell_type": "code",
   "execution_count": 9,
   "id": "157adad4",
   "metadata": {},
   "outputs": [
    {
     "data": {
      "text/plain": [
       "49"
      ]
     },
     "execution_count": 9,
     "metadata": {},
     "output_type": "execute_result"
    }
   ],
   "source": [
    "second_largest_value = sorted_values[-2]\n",
    "second_largest_value"
   ]
  },
  {
   "cell_type": "markdown",
   "id": "42086766",
   "metadata": {},
   "source": [
    "## Central Tendencies"
   ]
  },
  {
   "cell_type": "markdown",
   "id": "dc370a77",
   "metadata": {},
   "source": [
    "**Mean** sum of the data divided by its count"
   ]
  },
  {
   "cell_type": "code",
   "execution_count": 10,
   "id": "c3d6504f",
   "metadata": {},
   "outputs": [],
   "source": [
    "from typing import List\n",
    "\n",
    "def mean(xs: List[float]) -> float:\n",
    "    return sum(xs) / len(xs)"
   ]
  },
  {
   "cell_type": "code",
   "execution_count": 11,
   "id": "582a83ea",
   "metadata": {},
   "outputs": [
    {
     "data": {
      "text/plain": [
       "7.333333333333333"
      ]
     },
     "execution_count": 11,
     "metadata": {},
     "output_type": "execute_result"
    }
   ],
   "source": [
    "mean(num_friends)"
   ]
  },
  {
   "cell_type": "markdown",
   "id": "eb39f59b",
   "metadata": {},
   "source": [
    "**Median** middle value of a sorted list"
   ]
  },
  {
   "cell_type": "code",
   "execution_count": 12,
   "id": "7f063e7e",
   "metadata": {},
   "outputs": [],
   "source": [
    "# The underscores indicate that these are \"private\" functions, as they're intended  to be called by our median function\n",
    "# but not other people using our statistics library.\n",
    "\n",
    "def _median_odd(xs: List[float]) -> float:\n",
    "    \"\"\"If len(xs) is odd, the median is the middle element\"\"\"\n",
    "    return sorted(xs)[len(xs)//2]"
   ]
  },
  {
   "cell_type": "code",
   "execution_count": 13,
   "id": "a335df37",
   "metadata": {},
   "outputs": [],
   "source": [
    "def _median_even(xs: List[float]) -> float:\n",
    "    \"\"\"If len(xs) is even, it's the average of the middle two elements\"\"\"\n",
    "    sorted_xs = sorted(xs)\n",
    "    hi_midpoint = len(xs) // 2 # e.g length 4 => hi_midpoint 2\n",
    "    return (sorted_xs[hi_midpoint - 1] + sorted_xs[hi_midpoint]) / 2"
   ]
  },
  {
   "cell_type": "code",
   "execution_count": 14,
   "id": "5daac114",
   "metadata": {},
   "outputs": [],
   "source": [
    "def median(v: List[float]) -> float:\n",
    "    \"\"\"Finds the 'middle-most'value of v\"\"\"\n",
    "    return _median_even(v) if len(v) % 2 == 0 else _median_odd(v)"
   ]
  },
  {
   "cell_type": "code",
   "execution_count": 15,
   "id": "714dd79b",
   "metadata": {},
   "outputs": [],
   "source": [
    "assert median([1, 10, 2, 9, 5]) == 5"
   ]
  },
  {
   "cell_type": "code",
   "execution_count": 16,
   "id": "c470a5e8",
   "metadata": {},
   "outputs": [],
   "source": [
    "assert median([1, 9, 2, 10]) == ( 2 + 9 ) / 2"
   ]
  },
  {
   "cell_type": "code",
   "execution_count": 17,
   "id": "f888bf96",
   "metadata": {},
   "outputs": [
    {
     "name": "stdout",
     "output_type": "stream",
     "text": [
      "6.0\n"
     ]
    }
   ],
   "source": [
    "print(median(num_friends))"
   ]
  },
  {
   "cell_type": "markdown",
   "id": "eac7fbef",
   "metadata": {},
   "source": [
    "**Quantile** A generalization of the median"
   ]
  },
  {
   "cell_type": "code",
   "execution_count": 18,
   "id": "af99a4c6",
   "metadata": {},
   "outputs": [],
   "source": [
    "def quantile(xs: List[float], p: float )-> float:\n",
    "    \"\"\"Return the pth-perecntile value in x\"\"\"\n",
    "    p_index = int(p * len(xs))\n",
    "    return sorted (xs)[p_index]"
   ]
  },
  {
   "cell_type": "code",
   "execution_count": 19,
   "id": "24dfc0fa",
   "metadata": {},
   "outputs": [],
   "source": [
    "assert quantile(num_friends, 0.10) == 1\n",
    "assert quantile(num_friends, 0.25) == 3\n",
    "assert quantile(num_friends, 0.75) == 9\n",
    "assert quantile(num_friends, 0.90) == 13"
   ]
  },
  {
   "cell_type": "markdown",
   "id": "8659829a",
   "metadata": {},
   "source": [
    "**Mode** most common value"
   ]
  },
  {
   "cell_type": "code",
   "execution_count": 20,
   "id": "af07d9f5",
   "metadata": {},
   "outputs": [],
   "source": [
    "def mode(x: List[float]) -> List[float]:\n",
    "    \"\"\"Returns a list, since there might be more than one mode\"\"\"\n",
    "    counts = Counter(x)\n",
    "    max_count = max(counts.values())\n",
    "    return [x_i for x_i, count in counts.items()\n",
    "            if count == max_count]"
   ]
  },
  {
   "cell_type": "code",
   "execution_count": 21,
   "id": "098ba9c7",
   "metadata": {},
   "outputs": [],
   "source": [
    "assert set(mode(num_friends)) == {1, 6}"
   ]
  },
  {
   "cell_type": "markdown",
   "id": "538f4df2",
   "metadata": {},
   "source": [
    "## Dispersion"
   ]
  },
  {
   "cell_type": "markdown",
   "id": "743068a2",
   "metadata": {},
   "source": [
    "**Range** difference between the largest and smallest elements"
   ]
  },
  {
   "cell_type": "code",
   "execution_count": 22,
   "id": "9939c0f7",
   "metadata": {},
   "outputs": [],
   "source": [
    "# 'range' already means something in Python, so we'll use a different name \n",
    "\n",
    "def data_range(xs: List[float]) -> float:\n",
    "    return max(xs) - min (xs)"
   ]
  },
  {
   "cell_type": "code",
   "execution_count": 23,
   "id": "257e78ec",
   "metadata": {},
   "outputs": [],
   "source": [
    "assert data_range(num_friends) == 99"
   ]
  },
  {
   "cell_type": "markdown",
   "id": "50c5fc43",
   "metadata": {},
   "source": [
    "**Variance**"
   ]
  },
  {
   "cell_type": "code",
   "execution_count": 24,
   "id": "4c556840",
   "metadata": {},
   "outputs": [],
   "source": [
    "Vector = List[float]\n",
    "\n",
    "def dot(v: Vector, w: Vector) -> float:\n",
    "    \"\"\"Computes v_1 * w_1 + ... + v_n * w_n\"\"\"\n",
    "    assert len(v) == len(w), \"vectors must be same length\"\n",
    "\n",
    "    return sum(v_i * w_i for v_i, w_i in zip(v, w))\n",
    "\n",
    "def sum_of_squares (v: Vector) -> float:\n",
    "    \"\"\"Returns v_1 * v_1 + ... + v_n * v_n\"\"\"\n",
    "    return dot(v, v)"
   ]
  },
  {
   "cell_type": "code",
   "execution_count": 25,
   "id": "d088b51c",
   "metadata": {},
   "outputs": [],
   "source": [
    "def de_mean(xs: List[float]) -> List[float]:\n",
    "    \"\"\" Translate xs bu subtracting its mean (so the result has mean 0)\"\"\"\n",
    "    x_bar = mean(xs)\n",
    "    return [x - x_bar for x in xs]"
   ]
  },
  {
   "cell_type": "code",
   "execution_count": 26,
   "id": "137ba153",
   "metadata": {},
   "outputs": [],
   "source": [
    "def variance (xs: List[float]) -> float:\n",
    "    \"\"\"Almost the average squared deviation from the mean\"\"\"\n",
    "    assert len(xs) >= 2, \"variance requires at least two elements\"\n",
    "    \n",
    "    n = len(xs)\n",
    "    deviations = de_mean(xs)\n",
    "    return sum_of_squares(deviations) / (n - 1)"
   ]
  },
  {
   "cell_type": "code",
   "execution_count": 27,
   "id": "c620b8b1",
   "metadata": {},
   "outputs": [],
   "source": [
    "assert 81.54 < variance (num_friends) < 81.55"
   ]
  },
  {
   "cell_type": "code",
   "execution_count": null,
   "id": "97d313b5",
   "metadata": {},
   "outputs": [],
   "source": []
  }
 ],
 "metadata": {
  "kernelspec": {
   "display_name": "dsfs",
   "language": "python",
   "name": "python3"
  },
  "language_info": {
   "codemirror_mode": {
    "name": "ipython",
    "version": 3
   },
   "file_extension": ".py",
   "mimetype": "text/x-python",
   "name": "python",
   "nbconvert_exporter": "python",
   "pygments_lexer": "ipython3",
   "version": "3.11.9"
  }
 },
 "nbformat": 4,
 "nbformat_minor": 5
}
