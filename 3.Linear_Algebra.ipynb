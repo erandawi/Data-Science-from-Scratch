{
 "cells": [
  {
   "cell_type": "markdown",
   "id": "b2efe9c1",
   "metadata": {},
   "source": [
    "# Vectors"
   ]
  },
  {
   "cell_type": "markdown",
   "id": "d301bb6d",
   "metadata": {},
   "source": [
    "**vectors are objects that can be added together to form new\n",
    "vectors and that can be multiplied by scalars (i.e., numbers), also to form\n",
    "new vectors**"
   ]
  },
  {
   "cell_type": "code",
   "execution_count": 2,
   "id": "4c392f36",
   "metadata": {},
   "outputs": [],
   "source": [
    "from typing import List"
   ]
  },
  {
   "cell_type": "code",
   "execution_count": 3,
   "id": "5007cc64",
   "metadata": {},
   "outputs": [],
   "source": [
    "Vector = List[float]\n",
    "\n",
    "height_weight_age = [70, # inches,\n",
    "                    170, # pounds,\n",
    "                    40,] # years\n",
    "\n",
    "grades = [95, # exam1,\n",
    "          80, # exam2,\n",
    "          75, # exam3,\n",
    "          62,] # exam4"
   ]
  },
  {
   "cell_type": "code",
   "execution_count": 4,
   "id": "732608f8",
   "metadata": {},
   "outputs": [
    {
     "data": {
      "text/plain": [
       "[70, 170, 40]"
      ]
     },
     "execution_count": 4,
     "metadata": {},
     "output_type": "execute_result"
    }
   ],
   "source": [
    "height_weight_age"
   ]
  },
  {
   "cell_type": "code",
   "execution_count": 5,
   "id": "ca75eb35",
   "metadata": {},
   "outputs": [
    {
     "data": {
      "text/plain": [
       "[95, 80, 75, 62]"
      ]
     },
     "execution_count": 5,
     "metadata": {},
     "output_type": "execute_result"
    }
   ],
   "source": [
    "grades"
   ]
  },
  {
   "cell_type": "markdown",
   "id": "8613813a",
   "metadata": {},
   "source": [
    "### Arithmetic on Vectors"
   ]
  },
  {
   "cell_type": "markdown",
   "id": "1b41c172",
   "metadata": {},
   "source": [
    "we’ll\n",
    "need to build these arithmetic tools ourselves"
   ]
  },
  {
   "cell_type": "markdown",
   "id": "d0aebfc7",
   "metadata": {},
   "source": [
    "**Vectors add\n",
    "componentwise**(should be both vecotrs same length)"
   ]
  },
  {
   "cell_type": "markdown",
   "id": "19e8d010",
   "metadata": {},
   "source": [
    "### Aggregation"
   ]
  },
  {
   "cell_type": "code",
   "execution_count": 6,
   "id": "941976b7",
   "metadata": {},
   "outputs": [],
   "source": [
    "def add(v: Vector, w: Vector) -> Vector :\n",
    "    \"\"\"Adds corresponding elements\"\"\"\n",
    "    assert len(v) == len(w), \"\"\"vectors must be the same length\"\"\"\n",
    "    return [v_i + w_i for v_i, w_i in zip(v, w)]\n",
    "assert add([1, 2, 3], [4, 5, 6]) == [5, 7, 9]"
   ]
  },
  {
   "cell_type": "markdown",
   "id": "cec39cb6",
   "metadata": {},
   "source": [
    "### Substraction"
   ]
  },
  {
   "cell_type": "code",
   "execution_count": 7,
   "id": "f07165a0",
   "metadata": {},
   "outputs": [],
   "source": [
    "def substract (v: Vector, w: Vector) -> Vector:\n",
    "    \"\"\"Substract corresponding elements\"\"\"\n",
    "    assert len(v) == len(w),\"\"\"vectors must be the same length\"\"\"\n",
    "    return [v_i - w_i for v_i, w_i in zip(v, w)]\n",
    "assert substract ([5, 7, 9], [4, 5, 6]) == [1, 2, 3]"
   ]
  },
  {
   "cell_type": "markdown",
   "id": "f41d904b",
   "metadata": {},
   "source": [
    "### Componentwise sum a list of vectors"
   ]
  },
  {
   "cell_type": "code",
   "execution_count": 9,
   "id": "2bc1deb4",
   "metadata": {},
   "outputs": [],
   "source": [
    "def vector_sum (vectors : List[Vector]) -> Vector:\n",
    "    \"\"\"Sums all correspomding elements\"\"\"\n",
    "    # Check the vectors is not empty\n",
    "    assert vectors, \"no vectors provided\"\n",
    "    \n",
    "    # Check the vectors are all the same size\n",
    "    num_elements = len(vectors[0])\n",
    "    assert all(len(v) == num_elements for v in vectors), \"different sizes\"\n",
    "    \n",
    "    # the i-th element of the result is the sum of every vector[i]\n",
    "    return [sum(vector [i] for vector in vectors)\n",
    "           for i in range(num_elements)]\n",
    "\n",
    "assert vector_sum([[1, 2], [3, 4], [5, 6], [7, 8]]) == [16, 20]"
   ]
  },
  {
   "cell_type": "markdown",
   "id": "f63cf0c3",
   "metadata": {},
   "source": [
    "### Multiply a vector by a scalar"
   ]
  },
  {
   "cell_type": "code",
   "execution_count": 10,
   "id": "9e19419e",
   "metadata": {},
   "outputs": [],
   "source": [
    "def scaler_multiply (c: float, v: Vector) -> Vector :\n",
    "    \"\"\"Multiplies every element by c\"\"\"\n",
    "    return [c * v_i for v_i in v]\n",
    "\n",
    "assert scaler_multiply(2, [1, 2, 3]) == [2, 4, 6]"
   ]
  },
  {
   "cell_type": "markdown",
   "id": "234d694c",
   "metadata": {},
   "source": [
    "### Componentwise means"
   ]
  },
  {
   "cell_type": "code",
   "execution_count": 11,
   "id": "8ebba188",
   "metadata": {},
   "outputs": [],
   "source": [
    "def vector_mean(vectors : List[Vector]) -> Vector:\n",
    "    \"\"\"Computes the element-wise average\"\"\"\n",
    "    n = len(vectors)\n",
    "    return scaler_multiply (1/n, vector_sum(vectors))\n",
    "\n",
    "assert vector_mean([[1,2], [3, 4], [5, 6]]) == [3, 4]"
   ]
  },
  {
   "cell_type": "markdown",
   "id": "71677aa1",
   "metadata": {},
   "source": [
    "## Dot Product"
   ]
  },
  {
   "cell_type": "markdown",
   "id": "1e6ce3fa",
   "metadata": {},
   "source": [
    "**The dot product of two vectors is the\n",
    "sum of their componentwise products**"
   ]
  },
  {
   "cell_type": "code",
   "execution_count": 14,
   "id": "39f67e16",
   "metadata": {},
   "outputs": [],
   "source": [
    "def dot(v: Vector, w: Vector) -> float:\n",
    "    \"\"\"Computes v_1 * w_1 + ... + v_n * w_n\"\"\"\n",
    "    assert len(v) == len(w), \"vectors must be same length\"\n",
    "\n",
    "    return sum(v_i * w_i for v_i, w_i in zip(v, w))\n",
    "\n",
    "assert dot([1, 2, 3], [4, 5, 6]) == 32  # 1 * 4 + 2 * 5 + 3 * 6\n"
   ]
  },
  {
   "cell_type": "markdown",
   "id": "629aaff0",
   "metadata": {},
   "source": [
    "### Vector’s sum of squares"
   ]
  },
  {
   "cell_type": "code",
   "execution_count": 16,
   "id": "ebd1c1c0",
   "metadata": {},
   "outputs": [],
   "source": [
    "def sum_of_squares (v: Vector) -> float:\n",
    "    \"\"\"Returns v_1 * v_1 + ... + v_n * v_n\"\"\"\n",
    "    return dot(v, v)\n",
    "\n",
    "assert sum_of_squares([1, 2, 3]) == 14 # 1 * 1 + 2 * 2 + 3 * 3"
   ]
  },
  {
   "cell_type": "markdown",
   "id": "5691072c",
   "metadata": {},
   "source": [
    "**which we can use to compute its magnitude (or length)**"
   ]
  },
  {
   "cell_type": "code",
   "execution_count": 18,
   "id": "c7fb4dc3",
   "metadata": {},
   "outputs": [],
   "source": [
    "import math\n",
    "\n",
    "def magnitude (v: Vector) -> float :\n",
    "    \"\"\"Returns the magnitude (or length) of v\"\"\"\n",
    "    return math.sqrt(sum_of_squares(v)) # math.sqrt is square root function\n",
    "\n",
    "assert magnitude([3, 4]) == 5"
   ]
  },
  {
   "cell_type": "markdown",
   "id": "579d0fb9",
   "metadata": {},
   "source": [
    "### Compute the distance between two vectors"
   ]
  },
  {
   "cell_type": "code",
   "execution_count": 19,
   "id": "a55acc98",
   "metadata": {},
   "outputs": [],
   "source": [
    "def squared_distance (v: Vector , w: Vector) -> float:\n",
    "    \"\"\"Computes (v_1 - w_1) ** 2 + ... + (v_n - w_n) ** 2\"\"\"\n",
    "    return sum_of_squares(substract(v, w))"
   ]
  },
  {
   "cell_type": "code",
   "execution_count": 20,
   "id": "4eb2aa10",
   "metadata": {},
   "outputs": [],
   "source": [
    "def distance(v: Vector, w: Vector) -> float:\n",
    "    \"\"\"Computes the distance between v and w\"\"\"\n",
    "    return math.sqrt(squared_distance (v, w))"
   ]
  },
  {
   "cell_type": "markdown",
   "id": "7f7acf5d",
   "metadata": {},
   "source": [
    "This is possibly clearer if we write it as (the equivalent):\n"
   ]
  },
  {
   "cell_type": "code",
   "execution_count": 21,
   "id": "afdf584e",
   "metadata": {},
   "outputs": [],
   "source": [
    "def distance (v: Vector, w: Vector) -> float:\n",
    "    return magntiude(substract(v, w))"
   ]
  },
  {
   "cell_type": "markdown",
   "id": "5075725f",
   "metadata": {},
   "source": [
    "# Matrices"
   ]
  },
  {
   "cell_type": "markdown",
   "id": "49bcd8ab",
   "metadata": {},
   "source": [
    "A matrix is a two-dimensional collection of numbers. We will represent\n",
    "matrices as lists of lists, with each inner list having the same size and\n",
    "representing a row of the matrix. **If A is a matrix, then A[i][j] is the\n",
    "element in the ith row and the jth column**. Per mathematical convention, we\n",
    "will frequently use capital letters to represent matrices"
   ]
  },
  {
   "cell_type": "code",
   "execution_count": 22,
   "id": "f3b882e7",
   "metadata": {},
   "outputs": [],
   "source": [
    "# Another type alias\n",
    "\n",
    "Matrix = List[List[float]]\n",
    "\n",
    "A = [[1, 2, 3], # A has 2 rows and 3 columns\n",
    "     [4, 5, 6]]\n",
    "\n",
    "B = [[1, 2], # B has 3 rows and 2 columns\n",
    "     [3, 4],\n",
    "     [5, 6]]"
   ]
  },
  {
   "cell_type": "code",
   "execution_count": 23,
   "id": "32f2eecf",
   "metadata": {},
   "outputs": [],
   "source": [
    "from typing import Tuple\n",
    "\n",
    "def shape(A: Matrix) -> Tuple [int, int]:\n",
    "    \"\"\"Return (# of rows of A, # of columns of A)\"\"\"\n",
    "    num_rows = len(A)\n",
    "    num_cols = len(A[0]) if A else 0 # number of elements in first row\n",
    "    return num_rows, num_cols\n",
    "\n",
    "assert shape([[1, 2, 3], [4, 5, 6]]) == (2, 3) # 2 rows, 3 columns"
   ]
  },
  {
   "cell_type": "markdown",
   "id": "a7b6a0b9",
   "metadata": {},
   "source": [
    "**If a matrix has n rows and k coloumns, we will refer to it as an n * k matrix.**\n",
    "we can (and sometimes will) think of each row of an n * k matrix as a vector of length k, and each column as a vector of length n"
   ]
  },
  {
   "cell_type": "code",
   "execution_count": 24,
   "id": "64dccfd5",
   "metadata": {},
   "outputs": [],
   "source": [
    "def get_row (A: Matrix, i: int) -> Vector:\n",
    "    \"\"\" Returns the i-th row of A (As a Vector)\"\"\"\n",
    "    return A[i]  # A[i] is already the ith row"
   ]
  },
  {
   "cell_type": "code",
   "execution_count": 25,
   "id": "4712facb",
   "metadata": {},
   "outputs": [],
   "source": [
    "def get_column(A: Matrix, j: int) -> Vector:\n",
    "    \"\"\" Returns the j-th columm of A (as a Vector)\"\"\"\n",
    "    return [A_i[j]   # jth element of row A_i\n",
    "            for A_i in A] # for each row A_i "
   ]
  },
  {
   "cell_type": "markdown",
   "id": "f4fbe941",
   "metadata": {},
   "source": [
    "We’ll also want to be able to create a matrix given its shape and a function\n",
    "for generating its elements"
   ]
  },
  {
   "cell_type": "code",
   "execution_count": 27,
   "id": "cd1a1367",
   "metadata": {},
   "outputs": [],
   "source": [
    "from typing import Callable\n",
    "\n",
    "def make_matrix(num_rows: int,\n",
    "                num_cols: int,\n",
    "                entry_fn: Callable[[int, int], float]) -> Matrix:\n",
    "    \"\"\"\n",
    "    Returns a num_rows x num_cols matrix\n",
    "    whose (i,j)-th entry is entry_fn(i, j)\n",
    "    \"\"\"\n",
    "    return [[entry_fn(i, j)             # given i, create a list\n",
    "             for j in range(num_cols)]  #   [entry_fn(i, 0), ... ]\n",
    "            for i in range(num_rows)]   # create one list for each i\n",
    "\n",
    "### Given this function, you could make a 5 × 5 identity matrix (with 1s on the diagonal and 0s elsewhere) l"
   ]
  },
  {
   "cell_type": "code",
   "execution_count": 28,
   "id": "45baa558",
   "metadata": {},
   "outputs": [],
   "source": [
    "def identity_matrix(n: int) -> Matrix:\n",
    "    \"\"\"Returns the n x n identity matrix\"\"\"\n",
    "    return make_matrix(n, n, lambda i, j: 1 if i == j else 0)\n",
    "\n",
    "assert identity_matrix(5) == [[1, 0, 0, 0, 0],\n",
    "                              [0, 1, 0, 0, 0],\n",
    "                              [0, 0, 1, 0, 0],\n",
    "                              [0, 0, 0, 1, 0],\n",
    "                              [0, 0, 0, 0, 1]]"
   ]
  },
  {
   "cell_type": "code",
   "execution_count": null,
   "id": "9149bf54",
   "metadata": {},
   "outputs": [],
   "source": []
  }
 ],
 "metadata": {
  "kernelspec": {
   "display_name": "Python 3 (ipykernel)",
   "language": "python",
   "name": "python3"
  },
  "language_info": {
   "codemirror_mode": {
    "name": "ipython",
    "version": 3
   },
   "file_extension": ".py",
   "mimetype": "text/x-python",
   "name": "python",
   "nbconvert_exporter": "python",
   "pygments_lexer": "ipython3",
   "version": "3.11.7"
  }
 },
 "nbformat": 4,
 "nbformat_minor": 5
}
